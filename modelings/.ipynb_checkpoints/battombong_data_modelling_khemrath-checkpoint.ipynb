{
 "cells": [
  {
   "cell_type": "markdown",
   "id": "973db317",
   "metadata": {},
   "source": [
    "<hr/>\n",
    "<h1><center> Data Modelling - Battombong</center></h1>\n",
    "<hr/>\n",
    "\n",
    "***"
   ]
  },
  {
   "cell_type": "markdown",
   "id": "4e72628c",
   "metadata": {},
   "source": [
    "### Data Description\n",
    "\n",
    "1. Date\n",
    "2. Time \n",
    "3. Water Content (m3/m3)\n",
    "4. Solar Radiation (W/m2)\n",
    "5. Rain (mm)\n",
    "6. Temperature (Celcuis)\n",
    "7. RH (%)\n",
    "8. Wind Speed (m/s)\n",
    "9. Gust Speed (m/s)\n",
    "10. Wind Direction (Degree)\n",
    "11. Dew Point (Celcuis)"
   ]
  },
  {
   "cell_type": "markdown",
   "id": "7bef701a",
   "metadata": {},
   "source": [
    "# Import Packages\n",
    "***"
   ]
  },
  {
   "cell_type": "code",
   "execution_count": 1,
   "id": "dee39347",
   "metadata": {},
   "outputs": [],
   "source": [
    "# importing the required modules\n",
    "import glob\n",
    "# Import the neccessary modules for data manipulation and visual representation\n",
    "import pandas as pd\n",
    "import numpy as np\n",
    "import matplotlib.pyplot as plt\n",
    "import matplotlib as matplot\n",
    "import seaborn as sns\n",
    "import warnings\n",
    "warnings.filterwarnings(\"ignore\")\n",
    "%matplotlib inline\n",
    "\n",
    "#important libraries for statistical \n",
    "\n",
    "from datetime import datetime, date \n",
    "import statsmodels.api as sm\n",
    "from statsmodels.tsa.stattools import adfuller\n",
    "from statsmodels.graphics.tsaplots import plot_acf, plot_pacf\n",
    "from sklearn.metrics import mean_squared_error\n",
    "from math import sqrt\n",
    "\n",
    "from statsmodels.tsa.stattools import adfuller\n",
    "from statsmodels.tsa.stattools import acf, pacf\n",
    "from statsmodels.tsa.seasonal import seasonal_decompose\n",
    "from statsmodels.tsa.arima_model import ARIMA\n",
    "from matplotlib.pylab import rcParams\n",
    "rcParams['figure.figsize'] = 10, 6"
   ]
  },
  {
   "cell_type": "markdown",
   "id": "3c7f478d",
   "metadata": {},
   "source": [
    "# Read the Data\n",
    "***"
   ]
  },
  {
   "cell_type": "code",
   "execution_count": 2,
   "id": "b20c06e3",
   "metadata": {},
   "outputs": [
    {
     "data": {
      "text/html": [
       "<div>\n",
       "<style scoped>\n",
       "    .dataframe tbody tr th:only-of-type {\n",
       "        vertical-align: middle;\n",
       "    }\n",
       "\n",
       "    .dataframe tbody tr th {\n",
       "        vertical-align: top;\n",
       "    }\n",
       "\n",
       "    .dataframe thead th {\n",
       "        text-align: right;\n",
       "    }\n",
       "</style>\n",
       "<table border=\"1\" class=\"dataframe\">\n",
       "  <thead>\n",
       "    <tr style=\"text-align: right;\">\n",
       "      <th></th>\n",
       "      <th>date</th>\n",
       "      <th>time</th>\n",
       "      <th>rain</th>\n",
       "      <th>rh</th>\n",
       "      <th>wind_speed</th>\n",
       "      <th>gust_speed</th>\n",
       "      <th>battery</th>\n",
       "      <th>water_content</th>\n",
       "      <th>solar_radiation</th>\n",
       "      <th>temperature</th>\n",
       "      <th>dew_point</th>\n",
       "      <th>wind_direction</th>\n",
       "    </tr>\n",
       "  </thead>\n",
       "  <tbody>\n",
       "    <tr>\n",
       "      <th>0</th>\n",
       "      <td>19/06/01</td>\n",
       "      <td>00:00:00</td>\n",
       "      <td>0.0</td>\n",
       "      <td>84.1</td>\n",
       "      <td>0.0</td>\n",
       "      <td>0.3</td>\n",
       "      <td>4.280</td>\n",
       "      <td>-0.4737</td>\n",
       "      <td>1</td>\n",
       "      <td>28.52</td>\n",
       "      <td>25.60</td>\n",
       "      <td>232</td>\n",
       "    </tr>\n",
       "    <tr>\n",
       "      <th>1</th>\n",
       "      <td>19/06/01</td>\n",
       "      <td>00:15:00</td>\n",
       "      <td>0.0</td>\n",
       "      <td>82.6</td>\n",
       "      <td>0.3</td>\n",
       "      <td>0.7</td>\n",
       "      <td>4.280</td>\n",
       "      <td>-0.4737</td>\n",
       "      <td>1</td>\n",
       "      <td>28.79</td>\n",
       "      <td>25.56</td>\n",
       "      <td>232</td>\n",
       "    </tr>\n",
       "    <tr>\n",
       "      <th>2</th>\n",
       "      <td>19/06/01</td>\n",
       "      <td>00:30:00</td>\n",
       "      <td>0.0</td>\n",
       "      <td>82.8</td>\n",
       "      <td>0.0</td>\n",
       "      <td>0.3</td>\n",
       "      <td>4.280</td>\n",
       "      <td>-0.4737</td>\n",
       "      <td>1</td>\n",
       "      <td>28.62</td>\n",
       "      <td>25.44</td>\n",
       "      <td>232</td>\n",
       "    </tr>\n",
       "    <tr>\n",
       "      <th>3</th>\n",
       "      <td>19/06/01</td>\n",
       "      <td>00:45:00</td>\n",
       "      <td>0.0</td>\n",
       "      <td>83.6</td>\n",
       "      <td>0.0</td>\n",
       "      <td>0.0</td>\n",
       "      <td>4.280</td>\n",
       "      <td>-0.4737</td>\n",
       "      <td>1</td>\n",
       "      <td>28.57</td>\n",
       "      <td>25.55</td>\n",
       "      <td>232</td>\n",
       "    </tr>\n",
       "    <tr>\n",
       "      <th>4</th>\n",
       "      <td>19/06/01</td>\n",
       "      <td>01:00:00</td>\n",
       "      <td>0.0</td>\n",
       "      <td>83.7</td>\n",
       "      <td>0.0</td>\n",
       "      <td>0.7</td>\n",
       "      <td>4.251</td>\n",
       "      <td>-0.4737</td>\n",
       "      <td>1</td>\n",
       "      <td>28.64</td>\n",
       "      <td>25.64</td>\n",
       "      <td>232</td>\n",
       "    </tr>\n",
       "  </tbody>\n",
       "</table>\n",
       "</div>"
      ],
      "text/plain": [
       "       date      time  rain    rh  wind_speed  gust_speed  battery  \\\n",
       "0  19/06/01  00:00:00   0.0  84.1         0.0         0.3    4.280   \n",
       "1  19/06/01  00:15:00   0.0  82.6         0.3         0.7    4.280   \n",
       "2  19/06/01  00:30:00   0.0  82.8         0.0         0.3    4.280   \n",
       "3  19/06/01  00:45:00   0.0  83.6         0.0         0.0    4.280   \n",
       "4  19/06/01  01:00:00   0.0  83.7         0.0         0.7    4.251   \n",
       "\n",
       "   water_content  solar_radiation  temperature  dew_point  wind_direction  \n",
       "0        -0.4737                1        28.52      25.60             232  \n",
       "1        -0.4737                1        28.79      25.56             232  \n",
       "2        -0.4737                1        28.62      25.44             232  \n",
       "3        -0.4737                1        28.57      25.55             232  \n",
       "4        -0.4737                1        28.64      25.64             232  "
      ]
     },
     "execution_count": 2,
     "metadata": {},
     "output_type": "execute_result"
    }
   ],
   "source": [
    "path = \"../datasets/intermediate_layer/battombong\"\n",
    "\n",
    "data = pd.read_csv(path + \"/cleaned_dataset_battombong.csv\")\n",
    "data.drop(\"Unnamed: 0\", axis=1, inplace=True)\n",
    "data.head()"
   ]
  },
  {
   "cell_type": "markdown",
   "id": "c2fab0b8",
   "metadata": {},
   "source": [
    "# Data Quality Checking\n",
    "***"
   ]
  },
  {
   "cell_type": "code",
   "execution_count": 3,
   "id": "d61010a8",
   "metadata": {},
   "outputs": [
    {
     "data": {
      "text/plain": [
       "date               False\n",
       "time               False\n",
       "rain               False\n",
       "rh                 False\n",
       "wind_speed         False\n",
       "gust_speed         False\n",
       "battery            False\n",
       "water_content      False\n",
       "solar_radiation    False\n",
       "temperature        False\n",
       "dew_point          False\n",
       "wind_direction     False\n",
       "dtype: bool"
      ]
     },
     "execution_count": 3,
     "metadata": {},
     "output_type": "execute_result"
    }
   ],
   "source": [
    "#check the data missing \n",
    "data.isnull().any()"
   ]
  },
  {
   "cell_type": "code",
   "execution_count": 4,
   "id": "8f91cdf3",
   "metadata": {},
   "outputs": [
    {
     "data": {
      "text/plain": [
       "date               0\n",
       "time               0\n",
       "rain               0\n",
       "rh                 0\n",
       "wind_speed         0\n",
       "gust_speed         0\n",
       "battery            0\n",
       "water_content      0\n",
       "solar_radiation    0\n",
       "temperature        0\n",
       "dew_point          0\n",
       "wind_direction     0\n",
       "dtype: int64"
      ]
     },
     "execution_count": 4,
     "metadata": {},
     "output_type": "execute_result"
    }
   ],
   "source": [
    "#sum it if it has any\n",
    "data.isnull().sum()"
   ]
  },
  {
   "cell_type": "code",
   "execution_count": 5,
   "id": "a840e036",
   "metadata": {},
   "outputs": [
    {
     "name": "stdout",
     "output_type": "stream",
     "text": [
      "0   date\n",
      "1   time\n",
      "2   rain\n",
      "3   rh\n",
      "4   wind_speed\n",
      "5   gust_speed\n",
      "6   battery\n",
      "7   water_content\n",
      "8   solar_radiation\n",
      "9   temperature\n",
      "10   dew_point\n",
      "11   wind_direction\n"
     ]
    }
   ],
   "source": [
    "#list all the columns which has in dataset \n",
    "for i,j in enumerate(data.columns):\n",
    "    print(i, \" \", j)"
   ]
  },
  {
   "cell_type": "code",
   "execution_count": 6,
   "id": "ce505f95",
   "metadata": {},
   "outputs": [
    {
     "name": "stdout",
     "output_type": "stream",
     "text": [
      "Number of rows in dataframe:  29045\n",
      "****************************************************************************************************\n",
      "Number of columns in dataframe:  12\n"
     ]
    }
   ],
   "source": [
    "#check the number of columns and rows in dataframe\n",
    "print(\"Number of rows in dataframe: \", data.shape[0])\n",
    "print(\"**\"*50)\n",
    "print(\"Number of columns in dataframe: \", data.shape[1])"
   ]
  },
  {
   "cell_type": "code",
   "execution_count": 7,
   "id": "1c2992c0",
   "metadata": {},
   "outputs": [
    {
     "name": "stdout",
     "output_type": "stream",
     "text": [
      "<class 'pandas.core.frame.DataFrame'>\n",
      "RangeIndex: 29045 entries, 0 to 29044\n",
      "Data columns (total 12 columns):\n",
      " #   Column           Non-Null Count  Dtype  \n",
      "---  ------           --------------  -----  \n",
      " 0   date             29045 non-null  object \n",
      " 1   time             29045 non-null  object \n",
      " 2   rain             29045 non-null  float64\n",
      " 3   rh               29045 non-null  float64\n",
      " 4   wind_speed       29045 non-null  float64\n",
      " 5   gust_speed       29045 non-null  float64\n",
      " 6   battery          29045 non-null  float64\n",
      " 7   water_content    29045 non-null  float64\n",
      " 8   solar_radiation  29045 non-null  int64  \n",
      " 9   temperature      29045 non-null  float64\n",
      " 10  dew_point        29045 non-null  float64\n",
      " 11  wind_direction   29045 non-null  int64  \n",
      "dtypes: float64(8), int64(2), object(2)\n",
      "memory usage: 2.7+ MB\n"
     ]
    }
   ],
   "source": [
    "#checking all datatype in the dataset \n",
    "data.info()"
   ]
  },
  {
   "cell_type": "code",
   "execution_count": 8,
   "id": "288294a2",
   "metadata": {},
   "outputs": [
    {
     "data": {
      "text/html": [
       "<div>\n",
       "<style scoped>\n",
       "    .dataframe tbody tr th:only-of-type {\n",
       "        vertical-align: middle;\n",
       "    }\n",
       "\n",
       "    .dataframe tbody tr th {\n",
       "        vertical-align: top;\n",
       "    }\n",
       "\n",
       "    .dataframe thead th {\n",
       "        text-align: right;\n",
       "    }\n",
       "</style>\n",
       "<table border=\"1\" class=\"dataframe\">\n",
       "  <thead>\n",
       "    <tr style=\"text-align: right;\">\n",
       "      <th></th>\n",
       "      <th>rain</th>\n",
       "      <th>rh</th>\n",
       "      <th>wind_speed</th>\n",
       "      <th>gust_speed</th>\n",
       "      <th>battery</th>\n",
       "      <th>water_content</th>\n",
       "      <th>solar_radiation</th>\n",
       "      <th>temperature</th>\n",
       "      <th>dew_point</th>\n",
       "      <th>wind_direction</th>\n",
       "    </tr>\n",
       "  </thead>\n",
       "  <tbody>\n",
       "    <tr>\n",
       "      <th>rain</th>\n",
       "      <td>1.000000</td>\n",
       "      <td>0.053641</td>\n",
       "      <td>0.077164</td>\n",
       "      <td>0.099954</td>\n",
       "      <td>0.024154</td>\n",
       "      <td>-0.014655</td>\n",
       "      <td>-0.026455</td>\n",
       "      <td>-0.040370</td>\n",
       "      <td>0.011078</td>\n",
       "      <td>0.025555</td>\n",
       "    </tr>\n",
       "    <tr>\n",
       "      <th>rh</th>\n",
       "      <td>0.053641</td>\n",
       "      <td>1.000000</td>\n",
       "      <td>-0.441715</td>\n",
       "      <td>-0.528231</td>\n",
       "      <td>-0.630834</td>\n",
       "      <td>0.013839</td>\n",
       "      <td>-0.606604</td>\n",
       "      <td>-0.817961</td>\n",
       "      <td>0.211996</td>\n",
       "      <td>0.104036</td>\n",
       "    </tr>\n",
       "    <tr>\n",
       "      <th>wind_speed</th>\n",
       "      <td>0.077164</td>\n",
       "      <td>-0.441715</td>\n",
       "      <td>1.000000</td>\n",
       "      <td>0.958908</td>\n",
       "      <td>0.415499</td>\n",
       "      <td>-0.073872</td>\n",
       "      <td>0.347843</td>\n",
       "      <td>0.504743</td>\n",
       "      <td>0.190192</td>\n",
       "      <td>0.153033</td>\n",
       "    </tr>\n",
       "    <tr>\n",
       "      <th>gust_speed</th>\n",
       "      <td>0.099954</td>\n",
       "      <td>-0.528231</td>\n",
       "      <td>0.958908</td>\n",
       "      <td>1.000000</td>\n",
       "      <td>0.498685</td>\n",
       "      <td>-0.073377</td>\n",
       "      <td>0.446947</td>\n",
       "      <td>0.573259</td>\n",
       "      <td>0.160140</td>\n",
       "      <td>0.131119</td>\n",
       "    </tr>\n",
       "    <tr>\n",
       "      <th>battery</th>\n",
       "      <td>0.024154</td>\n",
       "      <td>-0.630834</td>\n",
       "      <td>0.415499</td>\n",
       "      <td>0.498685</td>\n",
       "      <td>1.000000</td>\n",
       "      <td>0.079097</td>\n",
       "      <td>0.680204</td>\n",
       "      <td>0.659302</td>\n",
       "      <td>0.141996</td>\n",
       "      <td>-0.069650</td>\n",
       "    </tr>\n",
       "    <tr>\n",
       "      <th>water_content</th>\n",
       "      <td>-0.014655</td>\n",
       "      <td>0.013839</td>\n",
       "      <td>-0.073872</td>\n",
       "      <td>-0.073377</td>\n",
       "      <td>0.079097</td>\n",
       "      <td>1.000000</td>\n",
       "      <td>-0.028642</td>\n",
       "      <td>-0.146375</td>\n",
       "      <td>-0.211239</td>\n",
       "      <td>-0.082247</td>\n",
       "    </tr>\n",
       "    <tr>\n",
       "      <th>solar_radiation</th>\n",
       "      <td>-0.026455</td>\n",
       "      <td>-0.606604</td>\n",
       "      <td>0.347843</td>\n",
       "      <td>0.446947</td>\n",
       "      <td>0.680204</td>\n",
       "      <td>-0.028642</td>\n",
       "      <td>1.000000</td>\n",
       "      <td>0.655682</td>\n",
       "      <td>0.142717</td>\n",
       "      <td>-0.057305</td>\n",
       "    </tr>\n",
       "    <tr>\n",
       "      <th>temperature</th>\n",
       "      <td>-0.040370</td>\n",
       "      <td>-0.817961</td>\n",
       "      <td>0.504743</td>\n",
       "      <td>0.573259</td>\n",
       "      <td>0.659302</td>\n",
       "      <td>-0.146375</td>\n",
       "      <td>0.655682</td>\n",
       "      <td>1.000000</td>\n",
       "      <td>0.372352</td>\n",
       "      <td>0.011418</td>\n",
       "    </tr>\n",
       "    <tr>\n",
       "      <th>dew_point</th>\n",
       "      <td>0.011078</td>\n",
       "      <td>0.211996</td>\n",
       "      <td>0.190192</td>\n",
       "      <td>0.160140</td>\n",
       "      <td>0.141996</td>\n",
       "      <td>-0.211239</td>\n",
       "      <td>0.142717</td>\n",
       "      <td>0.372352</td>\n",
       "      <td>1.000000</td>\n",
       "      <td>0.182704</td>\n",
       "    </tr>\n",
       "    <tr>\n",
       "      <th>wind_direction</th>\n",
       "      <td>0.025555</td>\n",
       "      <td>0.104036</td>\n",
       "      <td>0.153033</td>\n",
       "      <td>0.131119</td>\n",
       "      <td>-0.069650</td>\n",
       "      <td>-0.082247</td>\n",
       "      <td>-0.057305</td>\n",
       "      <td>0.011418</td>\n",
       "      <td>0.182704</td>\n",
       "      <td>1.000000</td>\n",
       "    </tr>\n",
       "  </tbody>\n",
       "</table>\n",
       "</div>"
      ],
      "text/plain": [
       "                     rain        rh  wind_speed  gust_speed   battery  \\\n",
       "rain             1.000000  0.053641    0.077164    0.099954  0.024154   \n",
       "rh               0.053641  1.000000   -0.441715   -0.528231 -0.630834   \n",
       "wind_speed       0.077164 -0.441715    1.000000    0.958908  0.415499   \n",
       "gust_speed       0.099954 -0.528231    0.958908    1.000000  0.498685   \n",
       "battery          0.024154 -0.630834    0.415499    0.498685  1.000000   \n",
       "water_content   -0.014655  0.013839   -0.073872   -0.073377  0.079097   \n",
       "solar_radiation -0.026455 -0.606604    0.347843    0.446947  0.680204   \n",
       "temperature     -0.040370 -0.817961    0.504743    0.573259  0.659302   \n",
       "dew_point        0.011078  0.211996    0.190192    0.160140  0.141996   \n",
       "wind_direction   0.025555  0.104036    0.153033    0.131119 -0.069650   \n",
       "\n",
       "                 water_content  solar_radiation  temperature  dew_point  \\\n",
       "rain                 -0.014655        -0.026455    -0.040370   0.011078   \n",
       "rh                    0.013839        -0.606604    -0.817961   0.211996   \n",
       "wind_speed           -0.073872         0.347843     0.504743   0.190192   \n",
       "gust_speed           -0.073377         0.446947     0.573259   0.160140   \n",
       "battery               0.079097         0.680204     0.659302   0.141996   \n",
       "water_content         1.000000        -0.028642    -0.146375  -0.211239   \n",
       "solar_radiation      -0.028642         1.000000     0.655682   0.142717   \n",
       "temperature          -0.146375         0.655682     1.000000   0.372352   \n",
       "dew_point            -0.211239         0.142717     0.372352   1.000000   \n",
       "wind_direction       -0.082247        -0.057305     0.011418   0.182704   \n",
       "\n",
       "                 wind_direction  \n",
       "rain                   0.025555  \n",
       "rh                     0.104036  \n",
       "wind_speed             0.153033  \n",
       "gust_speed             0.131119  \n",
       "battery               -0.069650  \n",
       "water_content         -0.082247  \n",
       "solar_radiation       -0.057305  \n",
       "temperature            0.011418  \n",
       "dew_point              0.182704  \n",
       "wind_direction         1.000000  "
      ]
     },
     "execution_count": 8,
     "metadata": {},
     "output_type": "execute_result"
    },
    {
     "data": {
      "image/png": "[encoded data removed]",
      "text/plain": [
       "<Figure size 720x576 with 2 Axes>"
      ]
     },
     "metadata": {
      "needs_background": "light"
     },
     "output_type": "display_data"
    }
   ],
   "source": [
    "# Create a correlation matrix. What features correlate the most with turnover? What other correlations did you find?\n",
    "\n",
    "plt.figure(figsize=(10,8))\n",
    "\n",
    "correlation = data.corr()\n",
    "correlation = (correlation)\n",
    "sns.heatmap(correlation, \n",
    "            xticklabels=correlation.columns.values,\n",
    "            yticklabels=correlation.columns.values, annot=True)\n",
    "\n",
    "plt.title('Heatmap of Correlation Matrix', fontweight='bold')\n",
    "correlation"
   ]
  },
  {
   "cell_type": "markdown",
   "id": "fecc8c9f",
   "metadata": {},
   "source": [
    "# Data Wrangling | Cleansing\n",
    "***"
   ]
  },
  {
   "cell_type": "code",
   "execution_count": 9,
   "id": "a836df0d",
   "metadata": {},
   "outputs": [
    {
     "data": {
      "text/plain": [
       "['rain',\n",
       " 'rh',\n",
       " 'wind_speed',\n",
       " 'gust_speed',\n",
       " 'battery',\n",
       " 'water_content',\n",
       " 'solar_radiation',\n",
       " 'temperature',\n",
       " 'dew_point',\n",
       " 'wind_direction']"
      ]
     },
     "execution_count": 9,
     "metadata": {},
     "output_type": "execute_result"
    }
   ],
   "source": [
    "#select only number features\n",
    "numeric_features = data.select_dtypes(include=np.number).columns.tolist()\n",
    "numeric_features"
   ]
  },
  {
   "cell_type": "code",
   "execution_count": 26,
   "id": "2117fa44",
   "metadata": {},
   "outputs": [
    {
     "name": "stdout",
     "output_type": "stream",
     "text": [
      "\n"
     ]
    },
    {
     "data": {
      "image/png": "[encoded data removed]",
      "text/plain": [
       "<Figure size 1800x432 with 5 Axes>"
      ]
     },
     "metadata": {
      "needs_background": "light"
     },
     "output_type": "display_data"
    }
   ],
   "source": [
    "#check outlier of dataframe\n",
    "f, axes = plt.subplots(ncols=4, figsize=(25, 6))\n",
    "\n",
    "sns.boxplot(y=data['rain'], ax=axes[0])\n",
    "sns.boxplot(y=data['rh'], ax=axes[1])\n",
    "sns.boxplot(y=data['wind_speed'], ax=axes[2])\n",
    "sns.boxplot(y=data['gust_speed'], ax=axes[3])\n",
    "\n",
    "print()\n",
    "plt.show()"
   ]
  },
  {
   "cell_type": "code",
   "execution_count": 27,
   "id": "752eed66",
   "metadata": {},
   "outputs": [
    {
     "name": "stdout",
     "output_type": "stream",
     "text": [
      "\n"
     ]
    },
    {
     "data": {
      "image/png": "[encoded data removed]",
      "text/plain": [
       "<Figure size 1800x432 with 5 Axes>"
      ]
     },
     "metadata": {
      "needs_background": "light"
     },
     "output_type": "display_data"
    }
   ],
   "source": [
    "#check outlier of dataframe\n",
    "f, axes = plt.subplots(ncols=5, figsize=(25, 6))\n",
    "\n",
    "sns.boxplot(y=data['water_content'], ax=axes[0])\n",
    "sns.boxplot(y=data['solar_radiation'], ax=axes[1])\n",
    "sns.boxplot(y=data['temperature'], ax=axes[2])\n",
    "sns.boxplot(y=data['dew_point'], ax=axes[3])\n",
    "sns.boxplot(y=data['wind_direction'], ax=axes[4])\n",
    "\n",
    "print()\n",
    "plt.show()"
   ]
  },
  {
   "cell_type": "code",
   "execution_count": 29,
   "id": "f68aabdf",
   "metadata": {},
   "outputs": [],
   "source": [
    "#remove outlier from dataset\n",
    "from scipy.stats import zscore\n",
    "\n",
    "#create two columns more of zscore value\n",
    "data['water_content_zscore'] = zscore(data.water_content)\n",
    "data['solar_radiation_zscore'] = zscore(data.solar_radiation)\n",
    "data['rain_zscore'] = zscore(data.rain)\n",
    "data['temperature_zscore'] = zscore(data.temperature)\n",
    "data['rh_zscore'] = zscore(data.rh)\n",
    "data['wind_speed_zscore'] = zscore(data.wind_speed)\n",
    "data['gust_speed_zscore'] = zscore(data.gust_speed)\n",
    "data['wind_direction_zscore'] = zscore(data.wind_direction)\n",
    "data['dew_point_zscore'] = zscore(data.dew_point)\n",
    "\n",
    "#define zscore.\n",
    "#Z score is in (-3,3) value, if it's out means that it has outlier\n",
    "data[(data.water_content_zscore > 3.0) | (data.water_content_zscore < -3.0)]\n",
    "data[(data.solar_radiation_zscore > 3.0) | (data.solar_radiation_zscore < -3.0)]\n",
    "data[(data.rain_zscore > 3.0) | (data.rain_zscore < -3.0)]\n",
    "data[(data.temperature_zscore > 3.0) | (data.temperature_zscore < -3.0)]\n",
    "data[(data.rh_zscore > 3.0) | (data.rh_zscore < -3.0)]\n",
    "data[(data.wind_speed_zscore > 3.0) | (data.wind_speed_zscore < -3.0)]\n",
    "data[(data.gust_speed_zscore > 3.0) | (data.gust_speed_zscore < -3.0)]\n",
    "data[(data.wind_direction_zscore > 3.0) | (data.wind_direction_zscore < -3.0)]\n",
    "data[(data.dew_point_zscore > 3.0) | (data.dew_point_zscore < -3.0)]\n",
    "\n",
    "#drop z_score\n",
    "data = data.drop(data[(data.water_content_zscore > 3.0) | (data.water_content_zscore < -3.0)].index)\n",
    "data = data.drop(data[(data.solar_radiation_zscore > 3.0) | (data.solar_radiation_zscore < -3.0)].index)\n",
    "data = data.drop(data[(data.rain_zscore > 3.0) | (data.rain_zscore < -3.0)].index)\n",
    "data = data.drop(data[(data.temperature_zscore > 3.0) | (data.temperature_zscore < -3.0)].index)\n",
    "data = data.drop(data[(data.rh_zscore > 3.0) | (data.rh_zscore < -3.0)].index)\n",
    "data = data.drop(data[(data.wind_speed_zscore > 3.0) | (data.wind_speed_zscore < -3.0)].index)\n",
    "data = data.drop(data[(data.gust_speed_zscore > 3.0) | (data.gust_speed_zscore < -3.0)].index)\n",
    "data = data.drop(data[(data.wind_direction_zscore > 3.0) | (data.wind_direction_zscore < -3.0)].index)\n",
    "data = data.drop(data[(data.dew_point_zscore > 3.0) | (data.dew_point_zscore < -3.0)].index)\n"
   ]
  },
  {
   "cell_type": "markdown",
   "id": "45b6b968",
   "metadata": {},
   "source": [
    "<h3><center>After Removed Outlier</center></h3>"
   ]
  },
  {
   "cell_type": "code",
   "execution_count": 32,
   "id": "51606a12",
   "metadata": {},
   "outputs": [
    {
     "name": "stdout",
     "output_type": "stream",
     "text": [
      "\n"
     ]
    },
    {
     "data": {
      "image/png": "[encoded data removed]",
      "text/plain": [
       "<Figure size 1800x432 with 5 Axes>"
      ]
     },
     "metadata": {
      "needs_background": "light"
     },
     "output_type": "display_data"
    }
   ],
   "source": [
    "#check outlier of dataframe\n",
    "f, axes = plt.subplots(ncols=4, figsize=(25, 6))\n",
    "\n",
    "sns.boxplot(y=data['rain'], ax=axes[0])\n",
    "sns.boxplot(y=data['rh'], ax=axes[1])\n",
    "sns.boxplot(y=data['wind_speed'], ax=axes[2])\n",
    "sns.boxplot(y=data['gust_speed'], ax=axes[3])\n",
    "\n",
    "print()\n",
    "plt.show()"
   ]
  },
  {
   "cell_type": "code",
   "execution_count": 33,
   "id": "1c4ee26f",
   "metadata": {},
   "outputs": [
    {
     "name": "stdout",
     "output_type": "stream",
     "text": [
      "\n"
     ]
    },
    {
     "data": {
      "image/png": "[encoded data removed]",
      "text/plain": [
       "<Figure size 1800x432 with 5 Axes>"
      ]
     },
     "metadata": {
      "needs_background": "light"
     },
     "output_type": "display_data"
    }
   ],
   "source": [
    "#check outlier of dataframe\n",
    "f, axes = plt.subplots(ncols=5, figsize=(25, 6))\n",
    "\n",
    "sns.boxplot(y=data['water_content'], ax=axes[0])\n",
    "sns.boxplot(y=data['solar_radiation'], ax=axes[1])\n",
    "sns.boxplot(y=data['temperature'], ax=axes[2])\n",
    "sns.boxplot(y=data['dew_point'], ax=axes[3])\n",
    "sns.boxplot(y=data['wind_direction'], ax=axes[4])\n",
    "\n",
    "print()\n",
    "plt.show()"
   ]
  },
  {
   "cell_type": "code",
   "execution_count": 36,
   "id": "0bb1561d",
   "metadata": {},
   "outputs": [
    {
     "data": {
      "text/plain": [
       "(0, 22)"
      ]
     },
     "execution_count": 36,
     "metadata": {},
     "output_type": "execute_result"
    }
   ],
   "source": [
    "#I can see some of features are appear with negative values soo, we can apply this method to remove them out \n",
    "#for cols in numeric_features:\n",
    "#    data = data[data[cols] > 0]\n",
    "\n",
    "#select data frame only positive values \n",
    "data = data[data['water_content'] > 0]\n",
    "data.shape"
   ]
  },
  {
   "cell_type": "code",
   "execution_count": 37,
   "id": "17f8c098",
   "metadata": {},
   "outputs": [
    {
     "data": {
      "image/png": "[encoded data removed]",
      "text/plain": [
       "<Figure size 720x432 with 1 Axes>"
      ]
     },
     "metadata": {
      "needs_background": "light"
     },
     "output_type": "display_data"
    }
   ],
   "source": [
    "#Water Content after Applying and Romving the Negative Values out of there\n",
    "\n",
    "sns.boxplot(y=data['water_content'])\n",
    "plt.title(\"Water Content after Applying and Romving the Negative Values out of there\", fontweight='bold')\n",
    "plt.show()"
   ]
  },
  {
   "cell_type": "code",
   "execution_count": 17,
   "id": "a70c0410",
   "metadata": {},
   "outputs": [
    {
     "name": "stdout",
     "output_type": "stream",
     "text": [
      "date\n",
      "time\n",
      "rain\n",
      "rh\n",
      "wind_speed\n",
      "gust_speed\n",
      "battery\n",
      "water_content\n",
      "solar_radiation\n",
      "temperature\n",
      "dew_point\n",
      "wind_direction\n",
      "solar_radiation_zscore\n"
     ]
    }
   ],
   "source": [
    "#after removing z-score out, we should remove the feature name with z-score values too.\n",
    "\n",
    "data.drop(['water_content_zscore',\n",
    "          'water_content_zscore',\n",
    "          'rain_zscore',\n",
    "          'temperature_zscore',\n",
    "          'rh_zscore',\n",
    "          'wind_speed_zscore',\n",
    "          'gust_speed_zscore',\n",
    "          'wind_direction_zscore',\n",
    "          'dew_point_zscore'], \n",
    "axis=1, inplace=True)\n",
    "for i in data.columns:\n",
    "    print(i)"
   ]
  },
  {
   "cell_type": "markdown",
   "id": "bbf3f07b",
   "metadata": {},
   "source": [
    "# Exploratory Data Analysis\n",
    "***"
   ]
  },
  {
   "cell_type": "code",
   "execution_count": 18,
   "id": "ba3f48ea",
   "metadata": {},
   "outputs": [
    {
     "data": {
      "text/html": [
       "<div>\n",
       "<style scoped>\n",
       "    .dataframe tbody tr th:only-of-type {\n",
       "        vertical-align: middle;\n",
       "    }\n",
       "\n",
       "    .dataframe tbody tr th {\n",
       "        vertical-align: top;\n",
       "    }\n",
       "\n",
       "    .dataframe thead th {\n",
       "        text-align: right;\n",
       "    }\n",
       "</style>\n",
       "<table border=\"1\" class=\"dataframe\">\n",
       "  <thead>\n",
       "    <tr style=\"text-align: right;\">\n",
       "      <th></th>\n",
       "      <th>date</th>\n",
       "      <th>temperature</th>\n",
       "    </tr>\n",
       "  </thead>\n",
       "  <tbody>\n",
       "    <tr>\n",
       "      <th>29040</th>\n",
       "      <td>19/01/30</td>\n",
       "      <td>23.62</td>\n",
       "    </tr>\n",
       "    <tr>\n",
       "      <th>29041</th>\n",
       "      <td>19/01/30</td>\n",
       "      <td>23.71</td>\n",
       "    </tr>\n",
       "    <tr>\n",
       "      <th>29042</th>\n",
       "      <td>19/01/30</td>\n",
       "      <td>23.52</td>\n",
       "    </tr>\n",
       "    <tr>\n",
       "      <th>29043</th>\n",
       "      <td>19/01/30</td>\n",
       "      <td>23.14</td>\n",
       "    </tr>\n",
       "    <tr>\n",
       "      <th>29044</th>\n",
       "      <td>19/01/31</td>\n",
       "      <td>23.09</td>\n",
       "    </tr>\n",
       "  </tbody>\n",
       "</table>\n",
       "</div>"
      ],
      "text/plain": [
       "           date  temperature\n",
       "29040  19/01/30        23.62\n",
       "29041  19/01/30        23.71\n",
       "29042  19/01/30        23.52\n",
       "29043  19/01/30        23.14\n",
       "29044  19/01/31        23.09"
      ]
     },
     "execution_count": 18,
     "metadata": {},
     "output_type": "execute_result"
    }
   ],
   "source": [
    "#let's try with temperature values only first \n",
    "#select only date and temperature \n",
    "\n",
    "tem = data[['date', 'temperature']]\n",
    "tem.tail()"
   ]
  },
  {
   "cell_type": "code",
   "execution_count": 19,
   "id": "da711984",
   "metadata": {},
   "outputs": [],
   "source": [
    "#Parse strings to datetime type\n",
    "tem['date'] = pd.to_datetime(tem['date'], yearfirst=True)\n",
    "#set index from date \n",
    "#tem = tem.set_index(['date'])\n",
    "#I'm going to consider the temperature just from 1900 until the end of 2012\n",
    "#tem = tem.loc['2020-01-01':'2022-01-01']\n",
    "#tem.head()"
   ]
  },
  {
   "cell_type": "code",
   "execution_count": 20,
   "id": "5b090bca",
   "metadata": {},
   "outputs": [
    {
     "data": {
      "text/html": [
       "<div>\n",
       "<style scoped>\n",
       "    .dataframe tbody tr th:only-of-type {\n",
       "        vertical-align: middle;\n",
       "    }\n",
       "\n",
       "    .dataframe tbody tr th {\n",
       "        vertical-align: top;\n",
       "    }\n",
       "\n",
       "    .dataframe thead th {\n",
       "        text-align: right;\n",
       "    }\n",
       "</style>\n",
       "<table border=\"1\" class=\"dataframe\">\n",
       "  <thead>\n",
       "    <tr style=\"text-align: right;\">\n",
       "      <th></th>\n",
       "      <th>temperature</th>\n",
       "    </tr>\n",
       "    <tr>\n",
       "      <th>date</th>\n",
       "      <th></th>\n",
       "    </tr>\n",
       "  </thead>\n",
       "  <tbody>\n",
       "    <tr>\n",
       "      <th>2019-01-16</th>\n",
       "      <td>26.635513</td>\n",
       "    </tr>\n",
       "    <tr>\n",
       "      <th>2019-01-17</th>\n",
       "      <td>26.844375</td>\n",
       "    </tr>\n",
       "    <tr>\n",
       "      <th>2019-01-18</th>\n",
       "      <td>26.337812</td>\n",
       "    </tr>\n",
       "    <tr>\n",
       "      <th>2019-01-19</th>\n",
       "      <td>26.316354</td>\n",
       "    </tr>\n",
       "    <tr>\n",
       "      <th>2019-01-20</th>\n",
       "      <td>26.170521</td>\n",
       "    </tr>\n",
       "  </tbody>\n",
       "</table>\n",
       "</div>"
      ],
      "text/plain": [
       "            temperature\n",
       "date                   \n",
       "2019-01-16    26.635513\n",
       "2019-01-17    26.844375\n",
       "2019-01-18    26.337812\n",
       "2019-01-19    26.316354\n",
       "2019-01-20    26.170521"
      ]
     },
     "execution_count": 20,
     "metadata": {},
     "output_type": "execute_result"
    }
   ],
   "source": [
    "#let's sum and mean on daily temperature \n",
    "#tem = tem.append(tem.agg(['mean']).rename({'mean':'avg_daily_temperature'}))\n",
    "  \n",
    "tem = tem.groupby(['date'])['temperature'].mean()\n",
    "tem = pd.DataFrame(tem)\n",
    "tem.head()"
   ]
  },
  {
   "cell_type": "code",
   "execution_count": 21,
   "id": "7cfed45e",
   "metadata": {},
   "outputs": [],
   "source": [
    "#create a function for line plot \n",
    "def line_plot(x, y, title):\n",
    "    plt.figure(figsize=(25,6))\n",
    "    sns.lineplot(x=x, y=y)\n",
    "    plt.title(title, fontweight='bold', fontsize=15)\n",
    "    plt.show()"
   ]
  },
  {
   "cell_type": "code",
   "execution_count": 22,
   "id": "b97127a6",
   "metadata": {},
   "outputs": [
    {
     "ename": "SyntaxError",
     "evalue": "EOL while scanning string literal (1646963088.py, line 2)",
     "output_type": "error",
     "traceback": [
      "\u001b[0;36m  Input \u001b[0;32mIn [22]\u001b[0;36m\u001b[0m\n\u001b[0;31m    line_plot(data.date.index, data.temperature, \"The Water Content of Battombong in 2019)\u001b[0m\n\u001b[0m                                                                                          ^\u001b[0m\n\u001b[0;31mSyntaxError\u001b[0m\u001b[0;31m:\u001b[0m EOL while scanning string literal\n"
     ]
    }
   ],
   "source": [
    "#draw a testing line plot\n",
    "line_plot(data.date.index, data.temperature, \"The Water Content of Battombong in 2019)"
   ]
  },
  {
   "cell_type": "code",
   "execution_count": null,
   "id": "1459bea5",
   "metadata": {},
   "outputs": [],
   "source": [
    "## plot line graph\n",
    "plt.figure(figsize=(15,5))\n",
    "plt.xlabel('Date')\n",
    "plt.ylabel('Number of Temperature')\n",
    "plt.title('The Temperature From 2020 to 2022 in Cambodia', fontweight='bold')\n",
    "plt.plot(tem)\n",
    "plt.show()"
   ]
  },
  {
   "cell_type": "code",
   "execution_count": null,
   "id": "1981fc44",
   "metadata": {},
   "outputs": [],
   "source": [
    "# we are going to create a pivot table to plot the monthly temperatures through the years\n",
    "\n",
    "tem['month'] = tem.index.month\n",
    "tem['year'] = tem.index.year\n",
    "pivot = pd.pivot_table(tem, values='temperature', index='month', columns='year', aggfunc='mean')\n",
    "\n",
    "monthly_seasonality = pivot.mean(axis=1)\n",
    "monthly_seasonality.plot(figsize=(20,6))\n",
    "plt.title('Monthly Temperatures in Battombong in 2019', fontweight='bold')\n",
    "plt.xlabel('Months')\n",
    "plt.ylabel('Temperature')\n",
    "plt.xticks([x for x in range(1,13)])\n",
    "plt.show()"
   ]
  },
  {
   "cell_type": "code",
   "execution_count": null,
   "id": "be20fff8",
   "metadata": {},
   "outputs": [],
   "source": [
    "#drop the month and year out \n",
    "tem.drop(['month', 'year'], axis=1, inplace=True)"
   ]
  },
  {
   "cell_type": "code",
   "execution_count": null,
   "id": "6bc0ae10",
   "metadata": {},
   "outputs": [],
   "source": [
    "#Determine rolling statistics\n",
    "rolmean = tem.rolling(window=12).mean() #window size 12 denotes 12 months, giving rolling mean at yearly level\n",
    "rolstd = tem.rolling(window=12).std()\n",
    "print(rolmean,rolstd)"
   ]
  },
  {
   "cell_type": "code",
   "execution_count": null,
   "id": "869d7719",
   "metadata": {},
   "outputs": [],
   "source": [
    "#Plot rolling statistics\n",
    "plt.figure(figsize=(15,5))\n",
    "\n",
    "orig = plt.plot(tem, color='blue', label='Original')\n",
    "mean = plt.plot(rolmean, color='red', label='Rolling Mean')\n",
    "std = plt.plot(rolstd, color='black', label='Rolling Std')\n",
    "plt.legend(loc='best')\n",
    "\n",
    "plt.title('Rolling Mean & Standard Deviation', fontweight='bold')\n",
    "plt.show(block=False)"
   ]
  },
  {
   "cell_type": "markdown",
   "id": "80468e82",
   "metadata": {},
   "source": [
    "From the above graph, we see that rolling mean itself has a trend component even though rolling standard deviation is fairly constant with time. For our time series to be stationary, we need to ensure that both the rolling statistics ie: mean & std. dev. remain time invariant or constant with time. Thus the curves for both of them have to be parallel to the x-axis, which in our case is not so. \n",
    "\n",
    "To further augment our hypothesis that the time series is not stationary, let us perform the ADCF test."
   ]
  },
  {
   "cell_type": "code",
   "execution_count": null,
   "id": "43d57707",
   "metadata": {},
   "outputs": [],
   "source": [
    "#Perform Augmented Dickey–Fuller test:\n",
    "\n",
    "print('Results of Dickey Fuller Test:')\n",
    "dftest = adfuller(data['temperature'], autolag='AIC')\n",
    "\n",
    "dfoutput = pd.Series(dftest[0:4], index=['Test Statistic','p-value','#Lags Used','Number of Observations Used'])\n",
    "for key,value in dftest[4].items():\n",
    "    dfoutput['Critical Value (%s)'%key] = value\n",
    "    \n",
    "print(dfoutput)"
   ]
  },
  {
   "cell_type": "markdown",
   "id": "141c0db8",
   "metadata": {},
   "source": [
    "For a Time series to be stationary, its ADCF test should have:\n",
    "1. p-value to be low (according to the null hypothesis)\n",
    "2. The critical values at 1%,5%,10% confidence intervals should be as close as possible to the Test Statistics\n",
    "\n",
    "From the above ADCF test result, we see that p-value(at max can be 1.0) is very large. Also critical values are no where close to the Test Statistics. Hence, we can safely say that **our Time Series at the moment is not stationary**"
   ]
  },
  {
   "cell_type": "code",
   "execution_count": null,
   "id": "c98689a6",
   "metadata": {},
   "outputs": [],
   "source": [
    "def check_stationarity(y, lags_plots=48, figsize=(22,8)):\n",
    "    \"Use Series as parameter\"\n",
    "    \n",
    "    # Creating plots of the DF\n",
    "    y = pd.Series(y)\n",
    "    fig = plt.figure()\n",
    "\n",
    "    ax1 = plt.subplot2grid((3, 3), (0, 0), colspan=2)\n",
    "    ax2 = plt.subplot2grid((3, 3), (1, 0))\n",
    "    ax3 = plt.subplot2grid((3, 3), (1, 1))\n",
    "    ax4 = plt.subplot2grid((3, 3), (2, 0), colspan=2)\n",
    "\n",
    "    y.plot(ax=ax1, figsize=figsize)\n",
    "    ax1.set_title('Cambodia Temperature Variation', fontweight='bold')\n",
    "    plot_acf(y, lags=lags_plots, zero=False, ax=ax2);\n",
    "    plot_pacf(y, lags=lags_plots, zero=False, ax=ax3);\n",
    "    sns.distplot(y, bins=int(sqrt(len(y))), ax=ax4)\n",
    "    ax4.set_title('Distribution Chart')\n",
    "\n",
    "    plt.tight_layout()\n",
    "    \n",
    "    print('Results of Dickey-Fuller Test:')\n",
    "    adfinput = adfuller(y)\n",
    "    adftest = pd.Series(adfinput[0:4], index=['Test Statistic','p-value','Lags Used','Number of Observations Used'])\n",
    "    adftest = round(adftest,4)\n",
    "    \n",
    "    for key, value in adfinput[4].items():\n",
    "        adftest[\"Critical Value (%s)\"%key] = value.round(4)\n",
    "        \n",
    "    print(adftest)\n",
    "    \n",
    "    if adftest[0].round(2) < adftest[5].round(2):\n",
    "        print('\\nThe Test Statistics is lower than the Critical Value of 5%.\\nThe serie seems to be stationary')\n",
    "    else:\n",
    "        print(\"\\nThe Test Statistics is higher than the Critical Value of 5%.\\nThe serie isn't stationary\")"
   ]
  },
  {
   "cell_type": "code",
   "execution_count": null,
   "id": "91af444b",
   "metadata": {},
   "outputs": [],
   "source": [
    "#build the function to test the stationarity \n",
    "\n",
    "def test_stationarity(timeseries):\n",
    "    plt.figure(figsize=(15,5))\n",
    "    # Determining rolling statistics\n",
    "    rolmean = timeseries.rolling(12).mean()\n",
    "    rolstd = timeseries.rolling(12).std()\n",
    "\n",
    "    # Plot rolling statistics:\n",
    "    orig = plt.plot(timeseries, color='blue',label='Original')\n",
    "    mean = plt.plot(rolmean, color='red', label='Rolling Mean')\n",
    "    std = plt.plot(rolstd, color='black', label = 'Rolling Std')\n",
    "    plt.legend(loc='best')\n",
    "    plt.title('Rolling Mean & Standard Deviation')\n",
    "    plt.show(block=False)\n",
    "    \n",
    "    # Perform Dickey-Fuller test:\n",
    "    print ('Results of Dickey-Fuller Test:')\n",
    "    print(timeseries.iloc[:,0].values)\n",
    "    timeseries = timeseries.iloc[:,0].values\n",
    "    dftest = adfuller(timeseries, autolag='AIC')\n",
    "    dfoutput = pd.Series(dftest[0:4], index=['Test Statistic','p-value','#Lags Used','Number of Observations Used'])\n",
    "    for key,value in dftest[4].items():\n",
    "        dfoutput['Critical Value (%s)'%key] = value\n",
    "    print(dfoutput)"
   ]
  },
  {
   "cell_type": "code",
   "execution_count": null,
   "id": "2d1320c7",
   "metadata": {},
   "outputs": [],
   "source": [
    "# The first approach is to check the series without any transformation\n",
    "check_stationarity(tem['temperature'])"
   ]
  },
  {
   "cell_type": "markdown",
   "id": "ef44d23c",
   "metadata": {},
   "source": [
    "## Data Transformation to achieve Stationarity <a name=\"data-transform\"></a>\n",
    "\n",
    "There are a couple of ways to achieve stationarity through data transformation like taking $log_{10}$,$log_{e}$, square, square root, cube, cube root, exponential decay, time shift and so on ...\n",
    "\n",
    " lets start of with log transformations. Our objective is to remove the trend component. Hence,  flatter curves( ie: paralle to x-axis) for time series and rolling mean after taking log would say that our data transformation did a good job."
   ]
  },
  {
   "cell_type": "markdown",
   "id": "5d7c1501",
   "metadata": {},
   "source": [
    "### Log Scale Transformation  <a name=\"log\"></a>"
   ]
  },
  {
   "cell_type": "code",
   "execution_count": null,
   "id": "466c5cd5",
   "metadata": {},
   "outputs": [],
   "source": [
    "#Estimating trend\n",
    "tem_logscale = np.log(tem)\n",
    "\n",
    "## plot line graph\n",
    "plt.figure(figsize=(15,5))\n",
    "plt.xlabel('Date')\n",
    "plt.ylabel('Number of Temperature')\n",
    "plt.title('The Temperature From 2020 to 2022 in Cambodia', fontweight='bold')\n",
    "plt.plot(tem_logscale)\n",
    "plt.show()"
   ]
  },
  {
   "cell_type": "code",
   "execution_count": null,
   "id": "668c9170",
   "metadata": {},
   "outputs": [],
   "source": [
    "#The below transformation is required to make series stationary\n",
    "\n",
    "plt.figure(figsize=(15,5))\n",
    "movingAverage = tem_logscale.rolling(window=12).mean()\n",
    "movingSTD = tem_logscale.rolling(window=12).std()\n",
    "plt.title('The Temperature From 2020 to 2022 in Cambodia - Log Scale', fontweight='bold')\n",
    "plt.plot(tem_logscale)\n",
    "plt.plot(movingAverage, color='red')\n",
    "plt.show()"
   ]
  },
  {
   "cell_type": "code",
   "execution_count": null,
   "id": "f9f0bb6b",
   "metadata": {},
   "outputs": [],
   "source": [
    "datasetLogScaleMinusMovingAverage = tem_logscale - movingAverage\n",
    "datasetLogScaleMinusMovingAverage.head(12)\n",
    "\n",
    "#Remove NAN values\n",
    "datasetLogScaleMinusMovingAverage.dropna(inplace=True)\n",
    "datasetLogScaleMinusMovingAverage.head(10)"
   ]
  },
  {
   "cell_type": "code",
   "execution_count": null,
   "id": "b60182f0",
   "metadata": {
    "scrolled": false
   },
   "outputs": [],
   "source": [
    "#let's implement it \n",
    "test_stationarity(datasetLogScaleMinusMovingAverage)"
   ]
  },
  {
   "cell_type": "code",
   "execution_count": null,
   "id": "97e5e5f8",
   "metadata": {},
   "outputs": [],
   "source": [
    "# The first approach is to check the series without any transformation\n",
    "check_stationarity(tem_logscale['temperature'])"
   ]
  }
 ],
 "metadata": {
  "kernelspec": {
   "display_name": "Python 3 (ipykernel)",
   "language": "python",
   "name": "python3"
  },
  "language_info": {
   "codemirror_mode": {
    "name": "ipython",
    "version": 3
   },
   "file_extension": ".py",
   "mimetype": "text/x-python",
   "name": "python",
   "nbconvert_exporter": "python",
   "pygments_lexer": "ipython3",
   "version": "3.9.7"
  }
 },
 "nbformat": 4,
 "nbformat_minor": 5
}
