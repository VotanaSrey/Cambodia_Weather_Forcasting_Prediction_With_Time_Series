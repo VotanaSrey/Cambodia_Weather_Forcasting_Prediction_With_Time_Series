{
 "cells": [
  {
   "cell_type": "code",
   "execution_count": 79,
   "id": "568209fd",
   "metadata": {},
   "outputs": [],
   "source": [
    "### Step 1\n",
    "### Importing Libraries\n",
    "\n",
    "import warnings\n",
    "import itertools\n",
    "\n",
    "import matplotlib.pyplot as plt\n",
    "%matplotlib inline\n",
    "\n",
    "plt.style.use('bmh')\n",
    "from io import StringIO\n",
    "import requests\n",
    "\n",
    "import pandas as pd\n",
    "import numpy as np\n",
    "import statsmodels.api as sm\n",
    "import statsmodels.tsa.api as smt\n",
    "import statsmodels.formula.api as smf\n",
    "from statsmodels.tsa.arima.model import ARIMA\n",
    "from statsmodels.tsa import statespace"
   ]
  },
  {
   "cell_type": "markdown",
   "id": "ac52631f",
   "metadata": {},
   "source": [
    "### Step 2\n",
    "\n",
    "Importing the dataset"
   ]
  },
  {
   "cell_type": "code",
   "execution_count": 3,
   "id": "e78a8323",
   "metadata": {},
   "outputs": [],
   "source": [
    "sales_data = pd.read_csv(\"Dataset/Tractor-Sales.csv\")"
   ]
  },
  {
   "cell_type": "code",
   "execution_count": 4,
   "id": "f66da453",
   "metadata": {},
   "outputs": [
    {
     "data": {
      "text/html": [
       "<div>\n",
       "<style scoped>\n",
       "    .dataframe tbody tr th:only-of-type {\n",
       "        vertical-align: middle;\n",
       "    }\n",
       "\n",
       "    .dataframe tbody tr th {\n",
       "        vertical-align: top;\n",
       "    }\n",
       "\n",
       "    .dataframe thead th {\n",
       "        text-align: right;\n",
       "    }\n",
       "</style>\n",
       "<table border=\"1\" class=\"dataframe\">\n",
       "  <thead>\n",
       "    <tr style=\"text-align: right;\">\n",
       "      <th></th>\n",
       "      <th>Month-Year</th>\n",
       "      <th>Number of Tractor Sold</th>\n",
       "    </tr>\n",
       "  </thead>\n",
       "  <tbody>\n",
       "    <tr>\n",
       "      <th>0</th>\n",
       "      <td>Jan-03</td>\n",
       "      <td>141</td>\n",
       "    </tr>\n",
       "    <tr>\n",
       "      <th>1</th>\n",
       "      <td>Feb-03</td>\n",
       "      <td>157</td>\n",
       "    </tr>\n",
       "    <tr>\n",
       "      <th>2</th>\n",
       "      <td>Mar-03</td>\n",
       "      <td>185</td>\n",
       "    </tr>\n",
       "    <tr>\n",
       "      <th>3</th>\n",
       "      <td>Apr-03</td>\n",
       "      <td>199</td>\n",
       "    </tr>\n",
       "    <tr>\n",
       "      <th>4</th>\n",
       "      <td>May-03</td>\n",
       "      <td>203</td>\n",
       "    </tr>\n",
       "    <tr>\n",
       "      <th>...</th>\n",
       "      <td>...</td>\n",
       "      <td>...</td>\n",
       "    </tr>\n",
       "    <tr>\n",
       "      <th>139</th>\n",
       "      <td>Aug-14</td>\n",
       "      <td>848</td>\n",
       "    </tr>\n",
       "    <tr>\n",
       "      <th>140</th>\n",
       "      <td>Sep-14</td>\n",
       "      <td>640</td>\n",
       "    </tr>\n",
       "    <tr>\n",
       "      <th>141</th>\n",
       "      <td>Oct-14</td>\n",
       "      <td>581</td>\n",
       "    </tr>\n",
       "    <tr>\n",
       "      <th>142</th>\n",
       "      <td>Nov-14</td>\n",
       "      <td>519</td>\n",
       "    </tr>\n",
       "    <tr>\n",
       "      <th>143</th>\n",
       "      <td>Dec-14</td>\n",
       "      <td>605</td>\n",
       "    </tr>\n",
       "  </tbody>\n",
       "</table>\n",
       "<p>144 rows × 2 columns</p>\n",
       "</div>"
      ],
      "text/plain": [
       "    Month-Year  Number of Tractor Sold\n",
       "0       Jan-03                     141\n",
       "1       Feb-03                     157\n",
       "2       Mar-03                     185\n",
       "3       Apr-03                     199\n",
       "4       May-03                     203\n",
       "..         ...                     ...\n",
       "139     Aug-14                     848\n",
       "140     Sep-14                     640\n",
       "141     Oct-14                     581\n",
       "142     Nov-14                     519\n",
       "143     Dec-14                     605\n",
       "\n",
       "[144 rows x 2 columns]"
      ]
     },
     "execution_count": 4,
     "metadata": {},
     "output_type": "execute_result"
    }
   ],
   "source": [
    "sales_data"
   ]
  },
  {
   "cell_type": "markdown",
   "id": "d31b11f4",
   "metadata": {},
   "source": [
    "### Step 3\n",
    "\n",
    "**Data Prepaparion**\n",
    "   - Make sure that the data has a continious Time Period in the same format\n",
    "   - Missing Value Treatment\n",
    "   - Outlier Treatment\n",
    "   - Making the data indexed with Time (Making it to be Time Series data)\n",
    "   - Optional: train-test split"
   ]
  },
  {
   "cell_type": "code",
   "execution_count": 9,
   "id": "45c5e33c",
   "metadata": {},
   "outputs": [],
   "source": [
    "# since the complete date was not mentioned, we assume that it was the first of every month\n",
    "dates = pd.date_range(start='2003-01-01', freq='MS', periods=len(sales_data))"
   ]
  },
  {
   "cell_type": "code",
   "execution_count": 10,
   "id": "ddc28a97",
   "metadata": {},
   "outputs": [],
   "source": [
    "# set the dates as the index of the dataframe, so that it can be treated as a time-series dataframe\n",
    "sales_data.set_index(dates, inplace=True)"
   ]
  },
  {
   "cell_type": "code",
   "execution_count": 12,
   "id": "f292cbee",
   "metadata": {},
   "outputs": [],
   "source": [
    "### Removing the original Month-Year variable\n",
    "del sales_data['Month-Year']"
   ]
  },
  {
   "cell_type": "code",
   "execution_count": 13,
   "id": "2444aabc",
   "metadata": {},
   "outputs": [
    {
     "data": {
      "text/html": [
       "<div>\n",
       "<style scoped>\n",
       "    .dataframe tbody tr th:only-of-type {\n",
       "        vertical-align: middle;\n",
       "    }\n",
       "\n",
       "    .dataframe tbody tr th {\n",
       "        vertical-align: top;\n",
       "    }\n",
       "\n",
       "    .dataframe thead th {\n",
       "        text-align: right;\n",
       "    }\n",
       "</style>\n",
       "<table border=\"1\" class=\"dataframe\">\n",
       "  <thead>\n",
       "    <tr style=\"text-align: right;\">\n",
       "      <th></th>\n",
       "      <th>Number of Tractor Sold</th>\n",
       "    </tr>\n",
       "  </thead>\n",
       "  <tbody>\n",
       "    <tr>\n",
       "      <th>2003-01-01</th>\n",
       "      <td>141</td>\n",
       "    </tr>\n",
       "    <tr>\n",
       "      <th>2003-02-01</th>\n",
       "      <td>157</td>\n",
       "    </tr>\n",
       "    <tr>\n",
       "      <th>2003-03-01</th>\n",
       "      <td>185</td>\n",
       "    </tr>\n",
       "    <tr>\n",
       "      <th>2003-04-01</th>\n",
       "      <td>199</td>\n",
       "    </tr>\n",
       "    <tr>\n",
       "      <th>2003-05-01</th>\n",
       "      <td>203</td>\n",
       "    </tr>\n",
       "    <tr>\n",
       "      <th>...</th>\n",
       "      <td>...</td>\n",
       "    </tr>\n",
       "    <tr>\n",
       "      <th>2014-08-01</th>\n",
       "      <td>848</td>\n",
       "    </tr>\n",
       "    <tr>\n",
       "      <th>2014-09-01</th>\n",
       "      <td>640</td>\n",
       "    </tr>\n",
       "    <tr>\n",
       "      <th>2014-10-01</th>\n",
       "      <td>581</td>\n",
       "    </tr>\n",
       "    <tr>\n",
       "      <th>2014-11-01</th>\n",
       "      <td>519</td>\n",
       "    </tr>\n",
       "    <tr>\n",
       "      <th>2014-12-01</th>\n",
       "      <td>605</td>\n",
       "    </tr>\n",
       "  </tbody>\n",
       "</table>\n",
       "<p>144 rows × 1 columns</p>\n",
       "</div>"
      ],
      "text/plain": [
       "            Number of Tractor Sold\n",
       "2003-01-01                     141\n",
       "2003-02-01                     157\n",
       "2003-03-01                     185\n",
       "2003-04-01                     199\n",
       "2003-05-01                     203\n",
       "...                            ...\n",
       "2014-08-01                     848\n",
       "2014-09-01                     640\n",
       "2014-10-01                     581\n",
       "2014-11-01                     519\n",
       "2014-12-01                     605\n",
       "\n",
       "[144 rows x 1 columns]"
      ]
     },
     "execution_count": 13,
     "metadata": {},
     "output_type": "execute_result"
    }
   ],
   "source": [
    "sales_data"
   ]
  },
  {
   "cell_type": "code",
   "execution_count": 14,
   "id": "68bfeadf",
   "metadata": {},
   "outputs": [],
   "source": [
    "### Renaming the Y variable\n",
    "sales_data.columns = ['Tractor-Sales']\n",
    "\n",
    "#### Converting it to a Series\n",
    "sales_ts = sales_data['Tractor-Sales']"
   ]
  },
  {
   "cell_type": "code",
   "execution_count": 16,
   "id": "0e3625f3",
   "metadata": {},
   "outputs": [
    {
     "data": {
      "image/png": "[encoded data removed]",
      "text/plain": [
       "<Figure size 432x288 with 1 Axes>"
      ]
     },
     "metadata": {
      "needs_background": "light"
     },
     "output_type": "display_data"
    }
   ],
   "source": [
    "plt.plot(sales_ts)\n",
    "plt.show()"
   ]
  },
  {
   "cell_type": "code",
   "execution_count": 26,
   "id": "2ec30a71",
   "metadata": {},
   "outputs": [
    {
     "data": {
      "image/png": "[encoded data removed]",
      "text/plain": [
       "<Figure size 720x720 with 4 Axes>"
      ]
     },
     "metadata": {
      "needs_background": "light"
     },
     "output_type": "display_data"
    }
   ],
   "source": [
    "fig, axes = plt.subplots(2,2)\n",
    "fig.set_figheight(10)\n",
    "fig.set_figwidth(10)\n",
    "\n",
    "# From this point forward your plt will be replace by axes[][]\n",
    "axes[0][0].plot(sales_ts)\n",
    "\n",
    "\n",
    "axes[0][1].plot(sales_ts)\n",
    "\n",
    "\n",
    "axes[1][0].plot(sales_ts)\n",
    "\n",
    "\n",
    "axes[1][1].plot(sales_ts)\n",
    "\n",
    "plt.show()"
   ]
  },
  {
   "cell_type": "code",
   "execution_count": 27,
   "id": "8f34961e",
   "metadata": {},
   "outputs": [
    {
     "data": {
      "image/png": "[encoded data removed]",
      "text/plain": [
       "<Figure size 432x288 with 1 Axes>"
      ]
     },
     "metadata": {
      "needs_background": "light"
     },
     "output_type": "display_data"
    }
   ],
   "source": [
    "plt.plot(sales_ts)\n",
    "plt.show()"
   ]
  },
  {
   "cell_type": "code",
   "execution_count": 28,
   "id": "9d8fafc0",
   "metadata": {},
   "outputs": [],
   "source": [
    "# Perform Dickey-Fuller test\n",
    "from statsmodels.tsa.stattools import adfuller"
   ]
  },
  {
   "cell_type": "code",
   "execution_count": 29,
   "id": "8c7d1797",
   "metadata": {},
   "outputs": [
    {
     "data": {
      "text/plain": [
       "(1.1088250591467375,\n",
       " 0.995291241524842,\n",
       " 14,\n",
       " 129,\n",
       " {'1%': -3.482087964046026,\n",
       "  '5%': -2.8842185101614626,\n",
       "  '10%': -2.578864381347275},\n",
       " 1082.5357724796872)"
      ]
     },
     "execution_count": 29,
     "metadata": {},
     "output_type": "execute_result"
    }
   ],
   "source": [
    "adfuller(sales_ts)"
   ]
  },
  {
   "cell_type": "code",
   "execution_count": 30,
   "id": "cd33415b",
   "metadata": {},
   "outputs": [
    {
     "name": "stdout",
     "output_type": "stream",
     "text": [
      "Results of Dickey-Fuller Test:\n",
      "Test Statistic                   1.108825\n",
      "p-value                          0.995291\n",
      "#lags Used                      14.000000\n",
      "Number of Observations Used    129.000000\n",
      "Critical Value (1%)             -3.482088\n",
      "Critical Value (5%)             -2.884219\n",
      "Critical Value (10%)            -2.578864\n",
      "dtype: float64\n"
     ]
    }
   ],
   "source": [
    "# Perform Dickey-Fuller test (Making the output more readable)\n",
    "from statsmodels.tsa.stattools import adfuller\n",
    "print('Results of Dickey-Fuller Test:')\n",
    "dftest = adfuller(sales_ts)\n",
    "dfoutput = pd.Series(dftest[0:4], index=['Test Statistic', 'p-value', '#lags Used', 'Number of Observations Used'])\n",
    "for key, value in dftest[4].items():\n",
    "    dfoutput['Critical Value (%s)'%key] = value\n",
    "print(dfoutput)"
   ]
  },
  {
   "cell_type": "code",
   "execution_count": 31,
   "id": "4d6dbfe6",
   "metadata": {},
   "outputs": [
    {
     "data": {
      "text/plain": [
       "2003-01-01    4.948760\n",
       "2003-02-01    5.056246\n",
       "2003-03-01    5.220356\n",
       "2003-04-01    5.293305\n",
       "2003-05-01    5.313206\n",
       "                ...   \n",
       "2014-08-01    6.742881\n",
       "2014-09-01    6.461468\n",
       "2014-10-01    6.364751\n",
       "2014-11-01    6.251904\n",
       "2014-12-01    6.405228\n",
       "Freq: MS, Name: Tractor-Sales, Length: 144, dtype: float64"
      ]
     },
     "execution_count": 31,
     "metadata": {},
     "output_type": "execute_result"
    }
   ],
   "source": [
    "np.log(sales_ts)"
   ]
  },
  {
   "cell_type": "code",
   "execution_count": 32,
   "id": "b76110bf",
   "metadata": {},
   "outputs": [
    {
     "name": "stdout",
     "output_type": "stream",
     "text": [
      "Results of Dickey-Fuller Test:\n",
      "Test Statistic                  -1.732472\n",
      "p-value                          0.414464\n",
      "#lags Used                      13.000000\n",
      "Number of Observations Used    130.000000\n",
      "Critical Value (1%)             -3.481682\n",
      "Critical Value (5%)             -2.884042\n",
      "Critical Value (10%)            -2.578770\n",
      "dtype: float64\n"
     ]
    }
   ],
   "source": [
    "# Perform Dickey-Fuller test (Making the output more readable)\n",
    "from statsmodels.tsa.stattools import adfuller\n",
    "print('Results of Dickey-Fuller Test:')\n",
    "dftest = adfuller(np.log(sales_ts))\n",
    "dfoutput = pd.Series(dftest[0:4], index=['Test Statistic', 'p-value', '#lags Used', 'Number of Observations Used'])\n",
    "for key, value in dftest[4].items():\n",
    "    dfoutput['Critical Value (%s)'%key] = value\n",
    "print(dfoutput)"
   ]
  },
  {
   "cell_type": "code",
   "execution_count": 33,
   "id": "bc361d08",
   "metadata": {},
   "outputs": [
    {
     "data": {
      "text/plain": [
       "2003-01-01    2.149219\n",
       "2003-02-01    2.195900\n",
       "2003-03-01    2.267172\n",
       "2003-04-01    2.298853\n",
       "2003-05-01    2.307496\n",
       "                ...   \n",
       "2014-08-01    2.928396\n",
       "2014-09-01    2.806180\n",
       "2014-10-01    2.764176\n",
       "2014-11-01    2.715167\n",
       "2014-12-01    2.781755\n",
       "Freq: MS, Name: Tractor-Sales, Length: 144, dtype: float64"
      ]
     },
     "execution_count": 33,
     "metadata": {},
     "output_type": "execute_result"
    }
   ],
   "source": [
    "np.log10(sales_ts)"
   ]
  },
  {
   "cell_type": "code",
   "execution_count": 34,
   "id": "e73b3545",
   "metadata": {},
   "outputs": [
    {
     "name": "stdout",
     "output_type": "stream",
     "text": [
      "Results of Dickey-Fuller Test:\n",
      "Test Statistic                  -1.732472\n",
      "p-value                          0.414464\n",
      "#lags Used                      13.000000\n",
      "Number of Observations Used    130.000000\n",
      "Critical Value (1%)             -3.481682\n",
      "Critical Value (5%)             -2.884042\n",
      "Critical Value (10%)            -2.578770\n",
      "dtype: float64\n"
     ]
    }
   ],
   "source": [
    "# Perform Dickey-Fuller test (Making the output more readable)\n",
    "from statsmodels.tsa.stattools import adfuller\n",
    "print('Results of Dickey-Fuller Test:')\n",
    "dftest = adfuller(np.log10(sales_ts))\n",
    "dfoutput = pd.Series(dftest[0:4], index=['Test Statistic', 'p-value', '#lags Used', 'Number of Observations Used'])\n",
    "for key, value in dftest[4].items():\n",
    "    dfoutput['Critical Value (%s)'%key] = value\n",
    "print(dfoutput)"
   ]
  },
  {
   "cell_type": "code",
   "execution_count": 36,
   "id": "d149c17a",
   "metadata": {},
   "outputs": [],
   "source": [
    "sales_ts_d1 = sales_ts.diff(1)"
   ]
  },
  {
   "cell_type": "code",
   "execution_count": 38,
   "id": "c53d7fac",
   "metadata": {},
   "outputs": [],
   "source": [
    "sales_ts_d1.dropna(inplace=True)"
   ]
  },
  {
   "cell_type": "code",
   "execution_count": 39,
   "id": "a1346035",
   "metadata": {},
   "outputs": [
    {
     "data": {
      "text/plain": [
       "2003-02-01     16.0\n",
       "2003-03-01     28.0\n",
       "2003-04-01     14.0\n",
       "2003-05-01      4.0\n",
       "2003-06-01    -14.0\n",
       "              ...  \n",
       "2014-08-01    -23.0\n",
       "2014-09-01   -208.0\n",
       "2014-10-01    -59.0\n",
       "2014-11-01    -62.0\n",
       "2014-12-01     86.0\n",
       "Freq: MS, Name: Tractor-Sales, Length: 143, dtype: float64"
      ]
     },
     "execution_count": 39,
     "metadata": {},
     "output_type": "execute_result"
    }
   ],
   "source": [
    "sales_ts_d1"
   ]
  },
  {
   "cell_type": "code",
   "execution_count": 40,
   "id": "709c337e",
   "metadata": {},
   "outputs": [
    {
     "name": "stdout",
     "output_type": "stream",
     "text": [
      "Results of Dickey-Fuller Test:\n",
      "Test Statistic                  -2.543481\n",
      "p-value                          0.105250\n",
      "#lags Used                      14.000000\n",
      "Number of Observations Used    128.000000\n",
      "Critical Value (1%)             -3.482501\n",
      "Critical Value (5%)             -2.884398\n",
      "Critical Value (10%)            -2.578960\n",
      "dtype: float64\n"
     ]
    }
   ],
   "source": [
    "# Perform Dickey-Fuller test (Making the output more readable)\n",
    "from statsmodels.tsa.stattools import adfuller\n",
    "print('Results of Dickey-Fuller Test:')\n",
    "dftest = adfuller(sales_ts_d1)\n",
    "dfoutput = pd.Series(dftest[0:4], index=['Test Statistic', 'p-value', '#lags Used', 'Number of Observations Used'])\n",
    "for key, value in dftest[4].items():\n",
    "    dfoutput['Critical Value (%s)'%key] = value\n",
    "print(dfoutput)"
   ]
  },
  {
   "cell_type": "code",
   "execution_count": 42,
   "id": "073a0138",
   "metadata": {},
   "outputs": [],
   "source": [
    "sales_ts_d2 = sales_ts.diff(2)"
   ]
  },
  {
   "cell_type": "code",
   "execution_count": 44,
   "id": "354ab0d8",
   "metadata": {},
   "outputs": [
    {
     "data": {
      "text/plain": [
       "2003-03-01     44.0\n",
       "2003-04-01     42.0\n",
       "2003-05-01     18.0\n",
       "2003-06-01    -10.0\n",
       "2003-07-01      4.0\n",
       "              ...  \n",
       "2014-08-01     99.0\n",
       "2014-09-01   -231.0\n",
       "2014-10-01   -267.0\n",
       "2014-11-01   -121.0\n",
       "2014-12-01     24.0\n",
       "Freq: MS, Name: Tractor-Sales, Length: 142, dtype: float64"
      ]
     },
     "execution_count": 44,
     "metadata": {},
     "output_type": "execute_result"
    }
   ],
   "source": [
    "sales_ts_d2.dropna(inplace=True)"
   ]
  },
  {
   "cell_type": "code",
   "execution_count": 45,
   "id": "dda596fb",
   "metadata": {},
   "outputs": [
    {
     "name": "stdout",
     "output_type": "stream",
     "text": [
      "Results of Dickey-Fuller Test:\n",
      "Test Statistic                  -2.704359\n",
      "p-value                          0.073287\n",
      "#lags Used                      13.000000\n",
      "Number of Observations Used    128.000000\n",
      "Critical Value (1%)             -3.482501\n",
      "Critical Value (5%)             -2.884398\n",
      "Critical Value (10%)            -2.578960\n",
      "dtype: float64\n"
     ]
    }
   ],
   "source": [
    "# Perform Dickey-Fuller test (Making the output more readable)\n",
    "from statsmodels.tsa.stattools import adfuller\n",
    "print('Results of Dickey-Fuller Test:')\n",
    "dftest = adfuller(sales_ts_d2)\n",
    "dfoutput = pd.Series(dftest[0:4], index=['Test Statistic', 'p-value', '#lags Used', 'Number of Observations Used'])\n",
    "for key, value in dftest[4].items():\n",
    "    dfoutput['Critical Value (%s)'%key] = value\n",
    "print(dfoutput)"
   ]
  },
  {
   "cell_type": "code",
   "execution_count": 52,
   "id": "a395156b",
   "metadata": {},
   "outputs": [],
   "source": [
    "sales_ts_log = np.log10(sales_ts)"
   ]
  },
  {
   "cell_type": "code",
   "execution_count": 56,
   "id": "93c72860",
   "metadata": {},
   "outputs": [],
   "source": [
    "sales_ts_log_d2 = sales_ts_log.diff(2)"
   ]
  },
  {
   "cell_type": "code",
   "execution_count": 57,
   "id": "fe8ca701",
   "metadata": {},
   "outputs": [],
   "source": [
    "sales_ts_log_d2.dropna(inplace=True)"
   ]
  },
  {
   "cell_type": "code",
   "execution_count": 59,
   "id": "a0dcf49c",
   "metadata": {},
   "outputs": [
    {
     "name": "stdout",
     "output_type": "stream",
     "text": [
      "Results of Dickey-Fuller Test:\n",
      "Test Statistic                  -3.200722\n",
      "p-value                          0.019943\n",
      "#lags Used                      11.000000\n",
      "Number of Observations Used    130.000000\n",
      "Critical Value (1%)             -3.481682\n",
      "Critical Value (5%)             -2.884042\n",
      "Critical Value (10%)            -2.578770\n",
      "dtype: float64\n"
     ]
    }
   ],
   "source": [
    "# Perform Dickey-Fuller test (Making the output more readable)\n",
    "from statsmodels.tsa.stattools import adfuller\n",
    "print('Results of Dickey-Fuller Test:')\n",
    "dftest = adfuller(sales_ts_log_d2)\n",
    "dfoutput = pd.Series(dftest[0:4], index=['Test Statistic', 'p-value', '#lags Used', 'Number of Observations Used'])\n",
    "for key, value in dftest[4].items():\n",
    "    dfoutput['Critical Value (%s)'%key] = value\n",
    "print(dfoutput)"
   ]
  },
  {
   "cell_type": "code",
   "execution_count": 60,
   "id": "8e72bd70",
   "metadata": {},
   "outputs": [
    {
     "name": "stdout",
     "output_type": "stream",
     "text": [
      "Results of Dickey-Fuller Test:\n",
      "Test Statistic                  -2.680467\n",
      "p-value                          0.077480\n",
      "#lags Used                      14.000000\n",
      "Number of Observations Used    128.000000\n",
      "Critical Value (1%)             -3.482501\n",
      "Critical Value (5%)             -2.884398\n",
      "Critical Value (10%)            -2.578960\n",
      "dtype: float64\n"
     ]
    }
   ],
   "source": [
    "sales_ts_log_d1 = sales_ts_log.diff(1)\n",
    "\n",
    "sales_ts_log_d1.dropna(inplace=True)\n",
    "\n",
    "# Perform Dickey-Fuller test (Making the output more readable)\n",
    "from statsmodels.tsa.stattools import adfuller\n",
    "print('Results of Dickey-Fuller Test:')\n",
    "dftest = adfuller(sales_ts_log_d1)\n",
    "dfoutput = pd.Series(dftest[0:4], index=['Test Statistic', 'p-value', '#lags Used', 'Number of Observations Used'])\n",
    "for key, value in dftest[4].items():\n",
    "    dfoutput['Critical Value (%s)'%key] = value\n",
    "print(dfoutput)"
   ]
  },
  {
   "cell_type": "code",
   "execution_count": 61,
   "id": "cafb0a94",
   "metadata": {},
   "outputs": [],
   "source": [
    "sales_ts_d3 = sales_ts.diff(3)"
   ]
  },
  {
   "cell_type": "code",
   "execution_count": 63,
   "id": "b5c904d9",
   "metadata": {},
   "outputs": [],
   "source": [
    "sales_ts_d3.dropna(inplace=True)"
   ]
  },
  {
   "cell_type": "code",
   "execution_count": 64,
   "id": "a3b61732",
   "metadata": {},
   "outputs": [
    {
     "name": "stdout",
     "output_type": "stream",
     "text": [
      "Results of Dickey-Fuller Test:\n",
      "Test Statistic                  -2.936724\n",
      "p-value                          0.041241\n",
      "#lags Used                      10.000000\n",
      "Number of Observations Used    130.000000\n",
      "Critical Value (1%)             -3.481682\n",
      "Critical Value (5%)             -2.884042\n",
      "Critical Value (10%)            -2.578770\n",
      "dtype: float64\n"
     ]
    }
   ],
   "source": [
    "# Perform Dickey-Fuller test (Making the output more readable)\n",
    "from statsmodels.tsa.stattools import adfuller\n",
    "print('Results of Dickey-Fuller Test:')\n",
    "dftest = adfuller(sales_ts_d3)\n",
    "dfoutput = pd.Series(dftest[0:4], index=['Test Statistic', 'p-value', '#lags Used', 'Number of Observations Used'])\n",
    "for key, value in dftest[4].items():\n",
    "    dfoutput['Critical Value (%s)'%key] = value\n",
    "print(dfoutput)"
   ]
  },
  {
   "cell_type": "code",
   "execution_count": 65,
   "id": "cd477866",
   "metadata": {},
   "outputs": [
    {
     "data": {
      "image/png": "[encoded data removed]",
      "text/plain": [
       "<Figure size 432x288 with 1 Axes>"
      ]
     },
     "metadata": {
      "needs_background": "light"
     },
     "output_type": "display_data"
    }
   ],
   "source": [
    "plt.plot(sales_ts_d3)\n",
    "plt.show()"
   ]
  },
  {
   "cell_type": "code",
   "execution_count": 66,
   "id": "73186de2",
   "metadata": {},
   "outputs": [
    {
     "data": {
      "image/png": "[encoded data removed]",
      "text/plain": [
       "<Figure size 432x288 with 1 Axes>"
      ]
     },
     "metadata": {
      "needs_background": "light"
     },
     "output_type": "display_data"
    }
   ],
   "source": [
    "plt.plot(sales_ts_log_d2)\n",
    "plt.show()"
   ]
  },
  {
   "cell_type": "code",
   "execution_count": null,
   "id": "1f864933",
   "metadata": {},
   "outputs": [],
   "source": [
    "## d = 2 with log(y) OR 3 without log(y)"
   ]
  },
  {
   "cell_type": "code",
   "execution_count": 70,
   "id": "9e75d597",
   "metadata": {},
   "outputs": [
    {
     "name": "stderr",
     "output_type": "stream",
     "text": [
      "C:\\Users\\Archish\\Anaconda3\\lib\\site-packages\\statsmodels\\regression\\linear_model.py:1434: RuntimeWarning: invalid value encountered in sqrt\n",
      "  return rho, np.sqrt(sigmasq)\n"
     ]
    },
    {
     "data": {
      "image/png": "[encoded data removed]",
      "text/plain": [
       "<Figure size 864x288 with 2 Axes>"
      ]
     },
     "metadata": {
      "needs_background": "light"
     },
     "output_type": "display_data"
    }
   ],
   "source": [
    "fig, axes = plt.subplots(1, 2, sharey=False, sharex=False)\n",
    "fig.set_figwidth(12)\n",
    "fig.set_figheight(4)\n",
    "smt.graphics.plot_acf(sales_ts_log_d2, lags=30, ax=axes[0], alpha=0.5)\n",
    "smt.graphics.plot_pacf(sales_ts_log_d2, lags=30, ax=axes[1], alpha=0.5)\n",
    "plt.tight_layout()"
   ]
  },
  {
   "cell_type": "code",
   "execution_count": null,
   "id": "31fa6e7b",
   "metadata": {},
   "outputs": [],
   "source": [
    "# p = 1\n",
    "# q = 1"
   ]
  },
  {
   "cell_type": "code",
   "execution_count": null,
   "id": "ec2dd27d",
   "metadata": {},
   "outputs": [],
   "source": [
    "# p = 1, d=2, q=1 when log(y)"
   ]
  },
  {
   "cell_type": "code",
   "execution_count": 72,
   "id": "23c99a1a",
   "metadata": {},
   "outputs": [
    {
     "name": "stderr",
     "output_type": "stream",
     "text": [
      "C:\\Users\\Archish\\Anaconda3\\lib\\site-packages\\statsmodels\\base\\model.py:566: ConvergenceWarning: Maximum Likelihood optimization failed to converge. Check mle_retvals\n",
      "  warnings.warn(\"Maximum Likelihood optimization failed to \"\n"
     ]
    }
   ],
   "source": [
    "# initiate and fit model\n",
    "model = ARIMA(sales_ts_log, order=(1,2,1))\n",
    "model_fit = model.fit()"
   ]
  },
  {
   "cell_type": "code",
   "execution_count": 74,
   "id": "8d2ade4d",
   "metadata": {},
   "outputs": [
    {
     "data": {
      "text/html": [
       "<table class=\"simpletable\">\n",
       "<caption>SARIMAX Results</caption>\n",
       "<tr>\n",
       "  <th>Dep. Variable:</th>     <td>Tractor-Sales</td>  <th>  No. Observations:  </th>    <td>144</td>  \n",
       "</tr>\n",
       "<tr>\n",
       "  <th>Model:</th>            <td>ARIMA(1, 2, 1)</td>  <th>  Log Likelihood     </th>  <td>205.343</td>\n",
       "</tr>\n",
       "<tr>\n",
       "  <th>Date:</th>            <td>Sat, 18 Dec 2021</td> <th>  AIC                </th> <td>-404.686</td>\n",
       "</tr>\n",
       "<tr>\n",
       "  <th>Time:</th>                <td>16:43:39</td>     <th>  BIC                </th> <td>-395.818</td>\n",
       "</tr>\n",
       "<tr>\n",
       "  <th>Sample:</th>             <td>01-01-2003</td>    <th>  HQIC               </th> <td>-401.082</td>\n",
       "</tr>\n",
       "<tr>\n",
       "  <th></th>                   <td>- 12-01-2014</td>   <th>                     </th>     <td> </td>   \n",
       "</tr>\n",
       "<tr>\n",
       "  <th>Covariance Type:</th>        <td>opg</td>       <th>                     </th>     <td> </td>   \n",
       "</tr>\n",
       "</table>\n",
       "<table class=\"simpletable\">\n",
       "<tr>\n",
       "     <td></td>       <th>coef</th>     <th>std err</th>      <th>z</th>      <th>P>|z|</th>  <th>[0.025</th>    <th>0.975]</th>  \n",
       "</tr>\n",
       "<tr>\n",
       "  <th>ar.L1</th>  <td>    0.1345</td> <td>    0.117</td> <td>    1.150</td> <td> 0.250</td> <td>   -0.095</td> <td>    0.364</td>\n",
       "</tr>\n",
       "<tr>\n",
       "  <th>ma.L1</th>  <td>   -0.9999</td> <td>   14.724</td> <td>   -0.068</td> <td> 0.946</td> <td>  -29.858</td> <td>   27.858</td>\n",
       "</tr>\n",
       "<tr>\n",
       "  <th>sigma2</th> <td>    0.0031</td> <td>    0.046</td> <td>    0.068</td> <td> 0.946</td> <td>   -0.088</td> <td>    0.094</td>\n",
       "</tr>\n",
       "</table>\n",
       "<table class=\"simpletable\">\n",
       "<tr>\n",
       "  <th>Ljung-Box (L1) (Q):</th>     <td>0.00</td> <th>  Jarque-Bera (JB):  </th> <td>1.72</td> \n",
       "</tr>\n",
       "<tr>\n",
       "  <th>Prob(Q):</th>                <td>0.98</td> <th>  Prob(JB):          </th> <td>0.42</td> \n",
       "</tr>\n",
       "<tr>\n",
       "  <th>Heteroskedasticity (H):</th> <td>1.15</td> <th>  Skew:              </th> <td>-0.14</td>\n",
       "</tr>\n",
       "<tr>\n",
       "  <th>Prob(H) (two-sided):</th>    <td>0.64</td> <th>  Kurtosis:          </th> <td>2.54</td> \n",
       "</tr>\n",
       "</table><br/><br/>Warnings:<br/>[1] Covariance matrix calculated using the outer product of gradients (complex-step)."
      ],
      "text/plain": [
       "<class 'statsmodels.iolib.summary.Summary'>\n",
       "\"\"\"\n",
       "                               SARIMAX Results                                \n",
       "==============================================================================\n",
       "Dep. Variable:          Tractor-Sales   No. Observations:                  144\n",
       "Model:                 ARIMA(1, 2, 1)   Log Likelihood                 205.343\n",
       "Date:                Sat, 18 Dec 2021   AIC                           -404.686\n",
       "Time:                        16:43:39   BIC                           -395.818\n",
       "Sample:                    01-01-2003   HQIC                          -401.082\n",
       "                         - 12-01-2014                                         \n",
       "Covariance Type:                  opg                                         \n",
       "==============================================================================\n",
       "                 coef    std err          z      P>|z|      [0.025      0.975]\n",
       "------------------------------------------------------------------------------\n",
       "ar.L1          0.1345      0.117      1.150      0.250      -0.095       0.364\n",
       "ma.L1         -0.9999     14.724     -0.068      0.946     -29.858      27.858\n",
       "sigma2         0.0031      0.046      0.068      0.946      -0.088       0.094\n",
       "===================================================================================\n",
       "Ljung-Box (L1) (Q):                   0.00   Jarque-Bera (JB):                 1.72\n",
       "Prob(Q):                              0.98   Prob(JB):                         0.42\n",
       "Heteroskedasticity (H):               1.15   Skew:                            -0.14\n",
       "Prob(H) (two-sided):                  0.64   Kurtosis:                         2.54\n",
       "===================================================================================\n",
       "\n",
       "Warnings:\n",
       "[1] Covariance matrix calculated using the outer product of gradients (complex-step).\n",
       "\"\"\""
      ]
     },
     "execution_count": 74,
     "metadata": {},
     "output_type": "execute_result"
    }
   ],
   "source": [
    "model_fit.summary()"
   ]
  },
  {
   "cell_type": "code",
   "execution_count": 75,
   "id": "f55028a1",
   "metadata": {},
   "outputs": [
    {
     "name": "stdout",
     "output_type": "stream",
     "text": [
      "                                     SARIMAX Results                                      \n",
      "==========================================================================================\n",
      "Dep. Variable:                      Tractor-Sales   No. Observations:                  144\n",
      "Model:             SARIMAX(1, 2, 1)x(1, 0, 1, 12)   Log Likelihood                 341.647\n",
      "Date:                            Sat, 18 Dec 2021   AIC                           -673.293\n",
      "Time:                                    16:46:18   BIC                           -659.033\n",
      "Sample:                                01-01-2003   HQIC                          -667.499\n",
      "                                     - 12-01-2014                                         \n",
      "Covariance Type:                              opg                                         \n",
      "==============================================================================\n",
      "                 coef    std err          z      P>|z|      [0.025      0.975]\n",
      "------------------------------------------------------------------------------\n",
      "ar.L1         -0.3568      0.073     -4.890      0.000      -0.500      -0.214\n",
      "ma.L1         -1.0000    776.640     -0.001      0.999   -1523.187    1521.187\n",
      "ar.S.L12       1.0075      0.014     71.391      0.000       0.980       1.035\n",
      "ma.S.L12      -0.5640      0.101     -5.587      0.000      -0.762      -0.366\n",
      "sigma2         0.0003      0.202      0.001      0.999      -0.396       0.396\n",
      "===================================================================================\n",
      "Ljung-Box (L1) (Q):                   0.08   Jarque-Bera (JB):                 0.40\n",
      "Prob(Q):                              0.78   Prob(JB):                         0.82\n",
      "Heteroskedasticity (H):               0.55   Skew:                            -0.11\n",
      "Prob(H) (two-sided):                  0.05   Kurtosis:                         3.17\n",
      "===================================================================================\n",
      "\n",
      "Warnings:\n",
      "[1] Covariance matrix calculated using the outer product of gradients (complex-step).\n"
     ]
    },
    {
     "name": "stderr",
     "output_type": "stream",
     "text": [
      "C:\\Users\\Archish\\Anaconda3\\lib\\site-packages\\statsmodels\\base\\model.py:566: ConvergenceWarning: Maximum Likelihood optimization failed to converge. Check mle_retvals\n",
      "  warnings.warn(\"Maximum Likelihood optimization failed to \"\n"
     ]
    }
   ],
   "source": [
    "model = sm.tsa.statespace.SARIMAX(sales_ts_log, order = (1,2,1), seasonal_order= (1,0,1,12),\n",
    "                                             enforce_stationarity=False,\n",
    "                                             enforce_invertibility=False)\n",
    "\n",
    "results = model.fit()\n",
    "\n",
    "print(results.summary())"
   ]
  },
  {
   "cell_type": "code",
   "execution_count": 76,
   "id": "bc6724c9",
   "metadata": {},
   "outputs": [
    {
     "name": "stdout",
     "output_type": "stream",
     "text": [
      "Best SARIMAX(1, 2, 1)x(1, 0, 1, 12)12 model - AIC:-673.2933429897091\n"
     ]
    }
   ],
   "source": [
    "# Define the p, d and q parameters to take any value between 0 and 2\n",
    "p = q = range(0, 3)\n",
    "d = range(2,3)\n",
    "# Generate all different combinations of p, d and q triplets\n",
    "pdq = list(itertools.product(p, d, q))\n",
    "\n",
    "# Generate all different combinations of seasonal p, q and q triplets\n",
    "D = range(0,2)\n",
    "P = Q = range(0, 2) \n",
    "seasonal_pdq = [(x[0], x[1], x[2], 12) for x in list(itertools.product(P, D, Q))]  # The value of 12 you might to have to chnage\n",
    "# depending on your data. So if the data is quaterly, then the value will be 4, bi-yearly- 2 and so no\n",
    "\n",
    "import sys\n",
    "warnings.filterwarnings(\"ignore\") # specify to ignore warning messages\n",
    "\n",
    "best_aic = np.inf\n",
    "best_pdq = None\n",
    "best_seasonal_pdq = None\n",
    "temp_model = None\n",
    "\n",
    "for param in pdq:\n",
    "    for param_seasonal in seasonal_pdq:\n",
    "        \n",
    "        try:\n",
    "            temp_model = sm.tsa.statespace.SARIMAX(sales_ts_log,\n",
    "                                             order = param,\n",
    "                                             seasonal_order = param_seasonal,\n",
    "                                             enforce_stationarity=False,\n",
    "                                             enforce_invertibility=False)\n",
    "            results = temp_model.fit()\n",
    "\n",
    "            # print(\"SARIMAX{}x{}12 - AIC:{}\".format(param, param_seasonal, results.aic))\n",
    "            if results.aic < best_aic:\n",
    "                best_aic = results.aic\n",
    "                best_pdq = param\n",
    "                best_seasonal_pdq = param_seasonal\n",
    "        except:\n",
    "            #print(\"Unexpected error:\", sys.exc_info()[0])\n",
    "            continue\n",
    "print(\"Best SARIMAX{}x{}12 model - AIC:{}\".format(best_pdq, best_seasonal_pdq, best_aic))"
   ]
  },
  {
   "cell_type": "code",
   "execution_count": 81,
   "id": "78e8cd34",
   "metadata": {},
   "outputs": [],
   "source": [
    "best_model = sm.tsa.statespace.SARIMAX(sales_ts_log,\n",
    "                                      order=(1, 2, 1),\n",
    "                                      seasonal_order=(1, 0, 1, 12),\n",
    "                                      enforce_stationarity=False,\n",
    "                                      enforce_invertibility=False)\n",
    "best_results = best_model.fit()"
   ]
  },
  {
   "cell_type": "code",
   "execution_count": 85,
   "id": "e61986c9",
   "metadata": {},
   "outputs": [],
   "source": [
    "pred_uc_99 = best_results.get_forecast(steps=36, alpha=0.05)"
   ]
  },
  {
   "cell_type": "code",
   "execution_count": 86,
   "id": "219534fe",
   "metadata": {},
   "outputs": [],
   "source": [
    "pred_ci_99 = pred_uc_99.conf_int()"
   ]
  },
  {
   "cell_type": "code",
   "execution_count": null,
   "id": "fcdc7d7c",
   "metadata": {},
   "outputs": [],
   "source": []
  },
  {
   "cell_type": "code",
   "execution_count": 88,
   "id": "5a55613e",
   "metadata": {},
   "outputs": [],
   "source": [
    "# Get forecast 36 steps (3 years) ahead in future\n",
    "n_steps = 36\n",
    "pred_uc_99 = best_results.get_forecast(steps=36, alpha=0.01) # alpha=0.01 signifies 99% confidence interval\n",
    "pred_uc_95 = best_results.get_forecast(steps=36, alpha=0.05) # alpha=0.05 95% CI\n",
    "\n",
    "# Get confidence intervals 95% & 99% of the forecasts\n",
    "pred_ci_99 = pred_uc_99.conf_int()\n",
    "pred_ci_95 = pred_uc_95.conf_int()\n",
    "\n",
    "n_steps = 36\n",
    "idx = pd.date_range(sales_ts.index[-1], periods=n_steps, freq='MS')\n",
    "fc_95 = pd.DataFrame(np.column_stack([np.power(10, pred_uc_95.predicted_mean), np.power(10, pred_ci_95)]), \n",
    "                     index=idx, columns=['forecast', 'lower_ci_95', 'upper_ci_95'])\n",
    "fc_99 = pd.DataFrame(np.column_stack([np.power(10, pred_ci_99)]), \n",
    "                     index=idx, columns=['lower_ci_99', 'upper_ci_99'])"
   ]
  },
  {
   "cell_type": "code",
   "execution_count": 91,
   "id": "e80c69f9",
   "metadata": {},
   "outputs": [
    {
     "data": {
      "text/html": [
       "<div>\n",
       "<style scoped>\n",
       "    .dataframe tbody tr th:only-of-type {\n",
       "        vertical-align: middle;\n",
       "    }\n",
       "\n",
       "    .dataframe tbody tr th {\n",
       "        vertical-align: top;\n",
       "    }\n",
       "\n",
       "    .dataframe thead th {\n",
       "        text-align: right;\n",
       "    }\n",
       "</style>\n",
       "<table border=\"1\" class=\"dataframe\">\n",
       "  <thead>\n",
       "    <tr style=\"text-align: right;\">\n",
       "      <th></th>\n",
       "      <th>forecast</th>\n",
       "      <th>lower_ci_95</th>\n",
       "      <th>upper_ci_95</th>\n",
       "      <th>lower_ci_99</th>\n",
       "      <th>upper_ci_99</th>\n",
       "    </tr>\n",
       "  </thead>\n",
       "  <tbody>\n",
       "    <tr>\n",
       "      <th>2014-12-01</th>\n",
       "      <td>564.642360</td>\n",
       "      <td>524.804990</td>\n",
       "      <td>607.503741</td>\n",
       "      <td>524.804990</td>\n",
       "      <td>607.503741</td>\n",
       "    </tr>\n",
       "    <tr>\n",
       "      <th>2015-01-01</th>\n",
       "      <td>562.716747</td>\n",
       "      <td>515.631344</td>\n",
       "      <td>614.101802</td>\n",
       "      <td>515.631344</td>\n",
       "      <td>614.101802</td>\n",
       "    </tr>\n",
       "    <tr>\n",
       "      <th>2015-02-01</th>\n",
       "      <td>668.759472</td>\n",
       "      <td>602.318744</td>\n",
       "      <td>742.529160</td>\n",
       "      <td>602.318744</td>\n",
       "      <td>742.529160</td>\n",
       "    </tr>\n",
       "    <tr>\n",
       "      <th>2015-03-01</th>\n",
       "      <td>756.662280</td>\n",
       "      <td>672.369251</td>\n",
       "      <td>851.522888</td>\n",
       "      <td>672.369251</td>\n",
       "      <td>851.522888</td>\n",
       "    </tr>\n",
       "    <tr>\n",
       "      <th>2015-04-01</th>\n",
       "      <td>854.604913</td>\n",
       "      <td>749.736385</td>\n",
       "      <td>974.141807</td>\n",
       "      <td>749.736385</td>\n",
       "      <td>974.141807</td>\n",
       "    </tr>\n",
       "  </tbody>\n",
       "</table>\n",
       "</div>"
      ],
      "text/plain": [
       "              forecast  lower_ci_95  upper_ci_95  lower_ci_99  upper_ci_99\n",
       "2014-12-01  564.642360   524.804990   607.503741   524.804990   607.503741\n",
       "2015-01-01  562.716747   515.631344   614.101802   515.631344   614.101802\n",
       "2015-02-01  668.759472   602.318744   742.529160   602.318744   742.529160\n",
       "2015-03-01  756.662280   672.369251   851.522888   672.369251   851.522888\n",
       "2015-04-01  854.604913   749.736385   974.141807   749.736385   974.141807"
      ]
     },
     "execution_count": 91,
     "metadata": {},
     "output_type": "execute_result"
    }
   ],
   "source": [
    "fc_all = fc_95.combine_first(fc_99)\n",
    "fc_all = fc_all[['forecast', 'lower_ci_95', 'upper_ci_95', 'lower_ci_99', 'upper_ci_99']] # just reordering columns\n",
    "fc_all"
   ]
  },
  {
   "cell_type": "code",
   "execution_count": 94,
   "id": "96083437",
   "metadata": {},
   "outputs": [
    {
     "data": {
      "text/html": [
       "<div>\n",
       "<style scoped>\n",
       "    .dataframe tbody tr th:only-of-type {\n",
       "        vertical-align: middle;\n",
       "    }\n",
       "\n",
       "    .dataframe tbody tr th {\n",
       "        vertical-align: top;\n",
       "    }\n",
       "\n",
       "    .dataframe thead th {\n",
       "        text-align: right;\n",
       "    }\n",
       "</style>\n",
       "<table border=\"1\" class=\"dataframe\">\n",
       "  <thead>\n",
       "    <tr style=\"text-align: right;\">\n",
       "      <th></th>\n",
       "      <th>forecast</th>\n",
       "      <th>lower_ci_95</th>\n",
       "      <th>upper_ci_95</th>\n",
       "      <th>lower_ci_99</th>\n",
       "      <th>upper_ci_99</th>\n",
       "    </tr>\n",
       "  </thead>\n",
       "  <tbody>\n",
       "    <tr>\n",
       "      <th>2014-12-01</th>\n",
       "      <td>564.642360</td>\n",
       "      <td>524.804990</td>\n",
       "      <td>607.503741</td>\n",
       "      <td>524.804990</td>\n",
       "      <td>607.503741</td>\n",
       "    </tr>\n",
       "    <tr>\n",
       "      <th>2015-01-01</th>\n",
       "      <td>562.716747</td>\n",
       "      <td>515.631344</td>\n",
       "      <td>614.101802</td>\n",
       "      <td>515.631344</td>\n",
       "      <td>614.101802</td>\n",
       "    </tr>\n",
       "    <tr>\n",
       "      <th>2015-02-01</th>\n",
       "      <td>668.759472</td>\n",
       "      <td>602.318744</td>\n",
       "      <td>742.529160</td>\n",
       "      <td>602.318744</td>\n",
       "      <td>742.529160</td>\n",
       "    </tr>\n",
       "    <tr>\n",
       "      <th>2015-03-01</th>\n",
       "      <td>756.662280</td>\n",
       "      <td>672.369251</td>\n",
       "      <td>851.522888</td>\n",
       "      <td>672.369251</td>\n",
       "      <td>851.522888</td>\n",
       "    </tr>\n",
       "    <tr>\n",
       "      <th>2015-04-01</th>\n",
       "      <td>854.604913</td>\n",
       "      <td>749.736385</td>\n",
       "      <td>974.141807</td>\n",
       "      <td>749.736385</td>\n",
       "      <td>974.141807</td>\n",
       "    </tr>\n",
       "    <tr>\n",
       "      <th>2015-05-01</th>\n",
       "      <td>815.153938</td>\n",
       "      <td>706.808966</td>\n",
       "      <td>940.106838</td>\n",
       "      <td>706.808966</td>\n",
       "      <td>940.106838</td>\n",
       "    </tr>\n",
       "    <tr>\n",
       "      <th>2015-06-01</th>\n",
       "      <td>937.513829</td>\n",
       "      <td>803.969436</td>\n",
       "      <td>1093.240787</td>\n",
       "      <td>803.969436</td>\n",
       "      <td>1093.240787</td>\n",
       "    </tr>\n",
       "    <tr>\n",
       "      <th>2015-07-01</th>\n",
       "      <td>932.919571</td>\n",
       "      <td>791.698499</td>\n",
       "      <td>1099.331281</td>\n",
       "      <td>791.698499</td>\n",
       "      <td>1099.331281</td>\n",
       "    </tr>\n",
       "    <tr>\n",
       "      <th>2015-08-01</th>\n",
       "      <td>698.775447</td>\n",
       "      <td>587.090456</td>\n",
       "      <td>831.706802</td>\n",
       "      <td>587.090456</td>\n",
       "      <td>831.706802</td>\n",
       "    </tr>\n",
       "    <tr>\n",
       "      <th>2015-09-01</th>\n",
       "      <td>620.925199</td>\n",
       "      <td>516.687117</td>\n",
       "      <td>746.192600</td>\n",
       "      <td>516.687117</td>\n",
       "      <td>746.192600</td>\n",
       "    </tr>\n",
       "    <tr>\n",
       "      <th>2015-10-01</th>\n",
       "      <td>565.454657</td>\n",
       "      <td>466.175850</td>\n",
       "      <td>685.876305</td>\n",
       "      <td>466.175850</td>\n",
       "      <td>685.876305</td>\n",
       "    </tr>\n",
       "    <tr>\n",
       "      <th>2015-11-01</th>\n",
       "      <td>662.410043</td>\n",
       "      <td>541.210157</td>\n",
       "      <td>810.751718</td>\n",
       "      <td>541.210157</td>\n",
       "      <td>810.751718</td>\n",
       "    </tr>\n",
       "    <tr>\n",
       "      <th>2015-12-01</th>\n",
       "      <td>616.862446</td>\n",
       "      <td>493.888887</td>\n",
       "      <td>770.455232</td>\n",
       "      <td>493.888887</td>\n",
       "      <td>770.455232</td>\n",
       "    </tr>\n",
       "    <tr>\n",
       "      <th>2016-01-01</th>\n",
       "      <td>614.905639</td>\n",
       "      <td>485.183934</td>\n",
       "      <td>779.310523</td>\n",
       "      <td>485.183934</td>\n",
       "      <td>779.310523</td>\n",
       "    </tr>\n",
       "    <tr>\n",
       "      <th>2016-02-01</th>\n",
       "      <td>731.421746</td>\n",
       "      <td>568.312654</td>\n",
       "      <td>941.344111</td>\n",
       "      <td>568.312654</td>\n",
       "      <td>941.344111</td>\n",
       "    </tr>\n",
       "    <tr>\n",
       "      <th>2016-03-01</th>\n",
       "      <td>828.182012</td>\n",
       "      <td>634.394832</td>\n",
       "      <td>1081.164930</td>\n",
       "      <td>634.394832</td>\n",
       "      <td>1081.164930</td>\n",
       "    </tr>\n",
       "    <tr>\n",
       "      <th>2016-04-01</th>\n",
       "      <td>935.988828</td>\n",
       "      <td>707.080505</td>\n",
       "      <td>1239.003311</td>\n",
       "      <td>707.080505</td>\n",
       "      <td>1239.003311</td>\n",
       "    </tr>\n",
       "    <tr>\n",
       "      <th>2016-05-01</th>\n",
       "      <td>892.249326</td>\n",
       "      <td>665.072543</td>\n",
       "      <td>1197.025600</td>\n",
       "      <td>665.072543</td>\n",
       "      <td>1197.025600</td>\n",
       "    </tr>\n",
       "    <tr>\n",
       "      <th>2016-06-01</th>\n",
       "      <td>1027.008666</td>\n",
       "      <td>755.616218</td>\n",
       "      <td>1395.876339</td>\n",
       "      <td>755.616218</td>\n",
       "      <td>1395.876339</td>\n",
       "    </tr>\n",
       "    <tr>\n",
       "      <th>2016-07-01</th>\n",
       "      <td>1021.686445</td>\n",
       "      <td>742.233135</td>\n",
       "      <td>1406.354880</td>\n",
       "      <td>742.233135</td>\n",
       "      <td>1406.354880</td>\n",
       "    </tr>\n",
       "    <tr>\n",
       "      <th>2016-08-01</th>\n",
       "      <td>763.407090</td>\n",
       "      <td>547.777898</td>\n",
       "      <td>1063.917305</td>\n",
       "      <td>547.777898</td>\n",
       "      <td>1063.917305</td>\n",
       "    </tr>\n",
       "    <tr>\n",
       "      <th>2016-09-01</th>\n",
       "      <td>677.584290</td>\n",
       "      <td>480.346464</td>\n",
       "      <td>955.811075</td>\n",
       "      <td>480.346464</td>\n",
       "      <td>955.811075</td>\n",
       "    </tr>\n",
       "    <tr>\n",
       "      <th>2016-10-01</th>\n",
       "      <td>616.463944</td>\n",
       "      <td>431.863815</td>\n",
       "      <td>879.971375</td>\n",
       "      <td>431.863815</td>\n",
       "      <td>879.971375</td>\n",
       "    </tr>\n",
       "    <tr>\n",
       "      <th>2016-11-01</th>\n",
       "      <td>722.850098</td>\n",
       "      <td>500.530054</td>\n",
       "      <td>1043.917864</td>\n",
       "      <td>500.530054</td>\n",
       "      <td>1043.917864</td>\n",
       "    </tr>\n",
       "    <tr>\n",
       "      <th>2016-12-01</th>\n",
       "      <td>672.618455</td>\n",
       "      <td>456.145964</td>\n",
       "      <td>991.821964</td>\n",
       "      <td>456.145964</td>\n",
       "      <td>991.821964</td>\n",
       "    </tr>\n",
       "    <tr>\n",
       "      <th>2017-01-01</th>\n",
       "      <td>670.302989</td>\n",
       "      <td>447.103269</td>\n",
       "      <td>1004.926888</td>\n",
       "      <td>447.103269</td>\n",
       "      <td>1004.926888</td>\n",
       "    </tr>\n",
       "    <tr>\n",
       "      <th>2017-02-01</th>\n",
       "      <td>798.163802</td>\n",
       "      <td>523.240284</td>\n",
       "      <td>1217.539005</td>\n",
       "      <td>523.240284</td>\n",
       "      <td>1217.539005</td>\n",
       "    </tr>\n",
       "    <tr>\n",
       "      <th>2017-03-01</th>\n",
       "      <td>904.377793</td>\n",
       "      <td>583.180116</td>\n",
       "      <td>1402.481275</td>\n",
       "      <td>583.180116</td>\n",
       "      <td>1402.481275</td>\n",
       "    </tr>\n",
       "    <tr>\n",
       "      <th>2017-04-01</th>\n",
       "      <td>1022.794916</td>\n",
       "      <td>648.909448</td>\n",
       "      <td>1612.103882</td>\n",
       "      <td>648.909448</td>\n",
       "      <td>1612.103882</td>\n",
       "    </tr>\n",
       "    <tr>\n",
       "      <th>2017-05-01</th>\n",
       "      <td>974.405853</td>\n",
       "      <td>608.481371</td>\n",
       "      <td>1560.387569</td>\n",
       "      <td>608.481371</td>\n",
       "      <td>1560.387569</td>\n",
       "    </tr>\n",
       "    <tr>\n",
       "      <th>2017-06-01</th>\n",
       "      <td>1122.487515</td>\n",
       "      <td>690.121187</td>\n",
       "      <td>1825.734734</td>\n",
       "      <td>690.121187</td>\n",
       "      <td>1825.734734</td>\n",
       "    </tr>\n",
       "    <tr>\n",
       "      <th>2017-07-01</th>\n",
       "      <td>1116.350719</td>\n",
       "      <td>675.933053</td>\n",
       "      <td>1843.731301</td>\n",
       "      <td>675.933053</td>\n",
       "      <td>1843.731301</td>\n",
       "    </tr>\n",
       "    <tr>\n",
       "      <th>2017-08-01</th>\n",
       "      <td>832.101950</td>\n",
       "      <td>496.303330</td>\n",
       "      <td>1395.101771</td>\n",
       "      <td>496.303330</td>\n",
       "      <td>1395.101771</td>\n",
       "    </tr>\n",
       "    <tr>\n",
       "      <th>2017-09-01</th>\n",
       "      <td>737.709505</td>\n",
       "      <td>433.534911</td>\n",
       "      <td>1255.297553</td>\n",
       "      <td>433.534911</td>\n",
       "      <td>1255.297553</td>\n",
       "    </tr>\n",
       "    <tr>\n",
       "      <th>2017-10-01</th>\n",
       "      <td>670.521146</td>\n",
       "      <td>388.339047</td>\n",
       "      <td>1157.747622</td>\n",
       "      <td>388.339047</td>\n",
       "      <td>1157.747622</td>\n",
       "    </tr>\n",
       "    <tr>\n",
       "      <th>2017-11-01</th>\n",
       "      <td>786.987042</td>\n",
       "      <td>449.273555</td>\n",
       "      <td>1378.555663</td>\n",
       "      <td>449.273555</td>\n",
       "      <td>1378.555663</td>\n",
       "    </tr>\n",
       "  </tbody>\n",
       "</table>\n",
       "</div>"
      ],
      "text/plain": [
       "               forecast  lower_ci_95  upper_ci_95  lower_ci_99  upper_ci_99\n",
       "2014-12-01   564.642360   524.804990   607.503741   524.804990   607.503741\n",
       "2015-01-01   562.716747   515.631344   614.101802   515.631344   614.101802\n",
       "2015-02-01   668.759472   602.318744   742.529160   602.318744   742.529160\n",
       "2015-03-01   756.662280   672.369251   851.522888   672.369251   851.522888\n",
       "2015-04-01   854.604913   749.736385   974.141807   749.736385   974.141807\n",
       "2015-05-01   815.153938   706.808966   940.106838   706.808966   940.106838\n",
       "2015-06-01   937.513829   803.969436  1093.240787   803.969436  1093.240787\n",
       "2015-07-01   932.919571   791.698499  1099.331281   791.698499  1099.331281\n",
       "2015-08-01   698.775447   587.090456   831.706802   587.090456   831.706802\n",
       "2015-09-01   620.925199   516.687117   746.192600   516.687117   746.192600\n",
       "2015-10-01   565.454657   466.175850   685.876305   466.175850   685.876305\n",
       "2015-11-01   662.410043   541.210157   810.751718   541.210157   810.751718\n",
       "2015-12-01   616.862446   493.888887   770.455232   493.888887   770.455232\n",
       "2016-01-01   614.905639   485.183934   779.310523   485.183934   779.310523\n",
       "2016-02-01   731.421746   568.312654   941.344111   568.312654   941.344111\n",
       "2016-03-01   828.182012   634.394832  1081.164930   634.394832  1081.164930\n",
       "2016-04-01   935.988828   707.080505  1239.003311   707.080505  1239.003311\n",
       "2016-05-01   892.249326   665.072543  1197.025600   665.072543  1197.025600\n",
       "2016-06-01  1027.008666   755.616218  1395.876339   755.616218  1395.876339\n",
       "2016-07-01  1021.686445   742.233135  1406.354880   742.233135  1406.354880\n",
       "2016-08-01   763.407090   547.777898  1063.917305   547.777898  1063.917305\n",
       "2016-09-01   677.584290   480.346464   955.811075   480.346464   955.811075\n",
       "2016-10-01   616.463944   431.863815   879.971375   431.863815   879.971375\n",
       "2016-11-01   722.850098   500.530054  1043.917864   500.530054  1043.917864\n",
       "2016-12-01   672.618455   456.145964   991.821964   456.145964   991.821964\n",
       "2017-01-01   670.302989   447.103269  1004.926888   447.103269  1004.926888\n",
       "2017-02-01   798.163802   523.240284  1217.539005   523.240284  1217.539005\n",
       "2017-03-01   904.377793   583.180116  1402.481275   583.180116  1402.481275\n",
       "2017-04-01  1022.794916   648.909448  1612.103882   648.909448  1612.103882\n",
       "2017-05-01   974.405853   608.481371  1560.387569   608.481371  1560.387569\n",
       "2017-06-01  1122.487515   690.121187  1825.734734   690.121187  1825.734734\n",
       "2017-07-01  1116.350719   675.933053  1843.731301   675.933053  1843.731301\n",
       "2017-08-01   832.101950   496.303330  1395.101771   496.303330  1395.101771\n",
       "2017-09-01   737.709505   433.534911  1255.297553   433.534911  1255.297553\n",
       "2017-10-01   670.521146   388.339047  1157.747622   388.339047  1157.747622\n",
       "2017-11-01   786.987042   449.273555  1378.555663   449.273555  1378.555663"
      ]
     },
     "execution_count": 94,
     "metadata": {},
     "output_type": "execute_result"
    }
   ],
   "source": [
    "fc_all"
   ]
  },
  {
   "cell_type": "code",
   "execution_count": 95,
   "id": "ecc14907",
   "metadata": {},
   "outputs": [
    {
     "data": {
      "image/png": "[encoded data removed]",
      "text/plain": [
       "<Figure size 1080x432 with 1 Axes>"
      ]
     },
     "metadata": {
      "needs_background": "light"
     },
     "output_type": "display_data"
    }
   ],
   "source": [
    "# plot the forecast along with the confidence band\n",
    "axis = sales_ts.plot(label='Observed', figsize=(15, 6))\n",
    "fc_all['forecast'].plot(ax=axis, label='Forecast', alpha=0.7)\n",
    "axis.fill_between(fc_all.index, fc_all['lower_ci_95'], fc_all['upper_ci_95'], color='k', alpha=.25)\n",
    "# axis.fill_between(fc_all.index, fc_all['lower_ci_99'], fc_all['upper_ci_99'], color='k', alpha=.25)\n",
    "axis.set_xlabel('Years')\n",
    "axis.set_ylabel('Tractor Sales')\n",
    "plt.legend(loc='best')\n",
    "plt.show()"
   ]
  },
  {
   "cell_type": "code",
   "execution_count": 96,
   "id": "845b3a8c",
   "metadata": {},
   "outputs": [],
   "source": [
    "### Importing the data\n",
    "\n",
    "mkt_sales_data = pd.read_csv('dataset/sales-and-marketing.csv')"
   ]
  },
  {
   "cell_type": "code",
   "execution_count": 99,
   "id": "794d5e38",
   "metadata": {},
   "outputs": [
    {
     "data": {
      "text/html": [
       "<div>\n",
       "<style scoped>\n",
       "    .dataframe tbody tr th:only-of-type {\n",
       "        vertical-align: middle;\n",
       "    }\n",
       "\n",
       "    .dataframe tbody tr th {\n",
       "        vertical-align: top;\n",
       "    }\n",
       "\n",
       "    .dataframe thead th {\n",
       "        text-align: right;\n",
       "    }\n",
       "</style>\n",
       "<table border=\"1\" class=\"dataframe\">\n",
       "  <thead>\n",
       "    <tr style=\"text-align: right;\">\n",
       "      <th></th>\n",
       "      <th>Tractor-Sales</th>\n",
       "      <th>Marketing Expense</th>\n",
       "    </tr>\n",
       "  </thead>\n",
       "  <tbody>\n",
       "    <tr>\n",
       "      <th>2011-01-01</th>\n",
       "      <td>397</td>\n",
       "      <td>486.64</td>\n",
       "    </tr>\n",
       "    <tr>\n",
       "      <th>2011-02-01</th>\n",
       "      <td>400</td>\n",
       "      <td>501.80</td>\n",
       "    </tr>\n",
       "    <tr>\n",
       "      <th>2011-03-01</th>\n",
       "      <td>498</td>\n",
       "      <td>437.09</td>\n",
       "    </tr>\n",
       "    <tr>\n",
       "      <th>2011-04-01</th>\n",
       "      <td>536</td>\n",
       "      <td>565.16</td>\n",
       "    </tr>\n",
       "    <tr>\n",
       "      <th>2011-05-01</th>\n",
       "      <td>596</td>\n",
       "      <td>744.15</td>\n",
       "    </tr>\n",
       "  </tbody>\n",
       "</table>\n",
       "</div>"
      ],
      "text/plain": [
       "            Tractor-Sales  Marketing Expense\n",
       "2011-01-01            397             486.64\n",
       "2011-02-01            400             501.80\n",
       "2011-03-01            498             437.09\n",
       "2011-04-01            536             565.16\n",
       "2011-05-01            596             744.15"
      ]
     },
     "execution_count": 99,
     "metadata": {},
     "output_type": "execute_result"
    }
   ],
   "source": [
    "### Making the data time indexed\n",
    "\n",
    "# since the complete date was not mentioned, we assume that it was the first of every month\n",
    "mkt_sales_data.set_index(pd.date_range(start='2011-01-01', freq='MS', periods=len(mkt_sales_data)), inplace=True)\n",
    "mkt_sales_data.drop(['Time Period'], axis=1, inplace=True)\n",
    "mkt_sales_data.rename(columns={'Sales':'Tractor-Sales'}, inplace=True)\n",
    "mkt_sales_data.head(5)"
   ]
  },
  {
   "cell_type": "code",
   "execution_count": 100,
   "id": "36faaf15",
   "metadata": {},
   "outputs": [
    {
     "name": "stdout",
     "output_type": "stream",
     "text": [
      "Results of Dickey-Fuller Test:\n",
      "Test Statistic                -7.015650e+00\n",
      "p-value                        6.743731e-10\n",
      "#lags Used                     1.000000e+01\n",
      "Number of Observations Used    3.600000e+01\n",
      "Critical Value (1%)           -3.626652e+00\n",
      "Critical Value (5%)           -2.945951e+00\n",
      "Critical Value (10%)          -2.611671e+00\n",
      "dtype: float64\n"
     ]
    }
   ],
   "source": [
    "### Doing a differencing of 1\n",
    "mkt_sales_data_diff = mkt_sales_data.diff(periods=1)\n",
    "mkt_sales_data_diff.dropna(inplace=True)\n",
    "\n",
    "# Perform Dickey-Fuller test:\n",
    "from statsmodels.tsa.stattools import adfuller\n",
    "print('Results of Dickey-Fuller Test:')\n",
    "dftest = adfuller(mkt_sales_data_diff['Tractor-Sales'])\n",
    "dfoutput = pd.Series(dftest[0:4], index=['Test Statistic', 'p-value', '#lags Used', 'Number of Observations Used'])\n",
    "for key, value in dftest[4].items():\n",
    "    dfoutput['Critical Value (%s)'%key] = value\n",
    "print(dfoutput)"
   ]
  },
  {
   "cell_type": "code",
   "execution_count": 105,
   "id": "a33b96eb",
   "metadata": {},
   "outputs": [],
   "source": [
    "mkt_sales_data['Mkt_Exp_Lag_1'] = mkt_sales_data['Marketing Expense'].shift(1)\n",
    "mkt_sales_data['Mkt_Exp_Lag_2'] = mkt_sales_data['Marketing Expense'].shift(2)\n",
    "mkt_sales_data['Mkt_Exp_Lag_3'] = mkt_sales_data['Marketing Expense'].shift(3)\n",
    "mkt_sales_data['Mkt_Exp_Lag_4'] = mkt_sales_data['Marketing Expense'].shift(4)"
   ]
  },
  {
   "cell_type": "code",
   "execution_count": 107,
   "id": "92f65dac",
   "metadata": {},
   "outputs": [
    {
     "data": {
      "text/html": [
       "<div>\n",
       "<style scoped>\n",
       "    .dataframe tbody tr th:only-of-type {\n",
       "        vertical-align: middle;\n",
       "    }\n",
       "\n",
       "    .dataframe tbody tr th {\n",
       "        vertical-align: top;\n",
       "    }\n",
       "\n",
       "    .dataframe thead th {\n",
       "        text-align: right;\n",
       "    }\n",
       "</style>\n",
       "<table border=\"1\" class=\"dataframe\">\n",
       "  <thead>\n",
       "    <tr style=\"text-align: right;\">\n",
       "      <th></th>\n",
       "      <th>Tractor-Sales</th>\n",
       "      <th>Marketing Expense</th>\n",
       "      <th>Mkt_Exp_Lag_1</th>\n",
       "      <th>Mkt_Exp_Lag_2</th>\n",
       "      <th>Mkt_Exp_Lag_3</th>\n",
       "      <th>Mkt_Exp_Lag_4</th>\n",
       "    </tr>\n",
       "  </thead>\n",
       "  <tbody>\n",
       "    <tr>\n",
       "      <th>2011-05-01</th>\n",
       "      <td>596</td>\n",
       "      <td>744.15</td>\n",
       "      <td>565.16</td>\n",
       "      <td>437.09</td>\n",
       "      <td>501.80</td>\n",
       "      <td>486.64</td>\n",
       "    </tr>\n",
       "    <tr>\n",
       "      <th>2011-06-01</th>\n",
       "      <td>591</td>\n",
       "      <td>548.74</td>\n",
       "      <td>744.15</td>\n",
       "      <td>565.16</td>\n",
       "      <td>437.09</td>\n",
       "      <td>501.80</td>\n",
       "    </tr>\n",
       "    <tr>\n",
       "      <th>2011-07-01</th>\n",
       "      <td>651</td>\n",
       "      <td>650.21</td>\n",
       "      <td>548.74</td>\n",
       "      <td>744.15</td>\n",
       "      <td>565.16</td>\n",
       "      <td>437.09</td>\n",
       "    </tr>\n",
       "    <tr>\n",
       "      <th>2011-08-01</th>\n",
       "      <td>654</td>\n",
       "      <td>777.51</td>\n",
       "      <td>650.21</td>\n",
       "      <td>548.74</td>\n",
       "      <td>744.15</td>\n",
       "      <td>565.16</td>\n",
       "    </tr>\n",
       "    <tr>\n",
       "      <th>2011-09-01</th>\n",
       "      <td>509</td>\n",
       "      <td>547.11</td>\n",
       "      <td>777.51</td>\n",
       "      <td>650.21</td>\n",
       "      <td>548.74</td>\n",
       "      <td>744.15</td>\n",
       "    </tr>\n",
       "  </tbody>\n",
       "</table>\n",
       "</div>"
      ],
      "text/plain": [
       "            Tractor-Sales  Marketing Expense  Mkt_Exp_Lag_1  Mkt_Exp_Lag_2  \\\n",
       "2011-05-01            596             744.15         565.16         437.09   \n",
       "2011-06-01            591             548.74         744.15         565.16   \n",
       "2011-07-01            651             650.21         548.74         744.15   \n",
       "2011-08-01            654             777.51         650.21         548.74   \n",
       "2011-09-01            509             547.11         777.51         650.21   \n",
       "\n",
       "            Mkt_Exp_Lag_3  Mkt_Exp_Lag_4  \n",
       "2011-05-01         501.80         486.64  \n",
       "2011-06-01         437.09         501.80  \n",
       "2011-07-01         565.16         437.09  \n",
       "2011-08-01         744.15         565.16  \n",
       "2011-09-01         548.74         744.15  "
      ]
     },
     "execution_count": 107,
     "metadata": {},
     "output_type": "execute_result"
    }
   ],
   "source": [
    "mkt_sales_data.dropna(inplace=True)\n",
    "mkt_sales_data.head()"
   ]
  },
  {
   "cell_type": "code",
   "execution_count": 111,
   "id": "267f77ca",
   "metadata": {},
   "outputs": [
    {
     "data": {
      "text/html": [
       "<div>\n",
       "<style scoped>\n",
       "    .dataframe tbody tr th:only-of-type {\n",
       "        vertical-align: middle;\n",
       "    }\n",
       "\n",
       "    .dataframe tbody tr th {\n",
       "        vertical-align: top;\n",
       "    }\n",
       "\n",
       "    .dataframe thead th {\n",
       "        text-align: right;\n",
       "    }\n",
       "</style>\n",
       "<table border=\"1\" class=\"dataframe\">\n",
       "  <thead>\n",
       "    <tr style=\"text-align: right;\">\n",
       "      <th></th>\n",
       "      <th>Tractor-Sales</th>\n",
       "      <th>Marketing Expense</th>\n",
       "      <th>Mkt_Exp_Lag_1</th>\n",
       "      <th>Mkt_Exp_Lag_2</th>\n",
       "      <th>Mkt_Exp_Lag_3</th>\n",
       "      <th>Mkt_Exp_Lag_4</th>\n",
       "    </tr>\n",
       "  </thead>\n",
       "  <tbody>\n",
       "    <tr>\n",
       "      <th>Tractor-Sales</th>\n",
       "      <td>1.0</td>\n",
       "      <td>0.807838</td>\n",
       "      <td>0.585169</td>\n",
       "      <td>0.262011</td>\n",
       "      <td>-0.056909</td>\n",
       "      <td>-0.257012</td>\n",
       "    </tr>\n",
       "  </tbody>\n",
       "</table>\n",
       "</div>"
      ],
      "text/plain": [
       "               Tractor-Sales  Marketing Expense  Mkt_Exp_Lag_1  Mkt_Exp_Lag_2  \\\n",
       "Tractor-Sales            1.0           0.807838       0.585169       0.262011   \n",
       "\n",
       "               Mkt_Exp_Lag_3  Mkt_Exp_Lag_4  \n",
       "Tractor-Sales      -0.056909      -0.257012  "
      ]
     },
     "execution_count": 111,
     "metadata": {},
     "output_type": "execute_result"
    }
   ],
   "source": [
    "mkt_sales_data.corr().head(1)"
   ]
  },
  {
   "cell_type": "code",
   "execution_count": 112,
   "id": "2447a4e4",
   "metadata": {},
   "outputs": [],
   "source": [
    "import sys\n",
    "\n",
    "def auto_arima(timeseries, regressors=None, p=range(0, 2), d=range(0, 2), q=range(0, 2),\n",
    "              P=range(0, 2), D=range(0, 1), Q=range(0, 2)):\n",
    "\n",
    "    # Generate all different combinations of p, d and q triplets\n",
    "    pdq = list(itertools.product(p, d, q))\n",
    "\n",
    "    # Generate all different combinations of seasonal p, q and q triplets\n",
    "    seasonal_pdq = [(x[0], x[1], x[2], 12) for x in list(itertools.product(P, D, Q))]  # The value of 12 you might to have to chnage\n",
    "# depending on your data. So if the data is quaterly, then the value will be 4, bi-yearly- 2 and so no\n",
    "    \n",
    "    warnings.filterwarnings(\"ignore\") # specify to ignore warning messages\n",
    "\n",
    "    best_aic = np.inf\n",
    "    best_pdq = None\n",
    "    best_seasonal_pdq = None\n",
    "    best_results = None\n",
    "\n",
    "    for param in pdq:\n",
    "        for param_seasonal in seasonal_pdq:\n",
    "\n",
    "            try:\n",
    "                temp_model = sm.tsa.statespace.SARIMAX(endog=timeseries,\n",
    "                                                 exog=regressors,\n",
    "                                                 order = param,\n",
    "                                                 seasonal_order = param_seasonal,\n",
    "                                                 enforce_stationarity=False,\n",
    "                                                 enforce_invertibility=False)\n",
    "                temp_results = temp_model.fit()\n",
    "\n",
    "                # print(\"SARIMAX{}x{}12 - AIC:{}\".format(param, param_seasonal, results.aic))\n",
    "                if temp_results.aic < best_aic:\n",
    "                    best_aic = temp_results.aic\n",
    "                    best_pdq = param\n",
    "                    best_seasonal_pdq = param_seasonal\n",
    "                    best_results = temp_results\n",
    "            except:\n",
    "                #print(\"Unexpected error:\", sys.exc_info()[0])\n",
    "                continue\n",
    "                \n",
    "                \n",
    "\n",
    "    print(\"Best SARIMAX{}x{}12 model - AIC:{}\".format(best_pdq, best_seasonal_pdq, best_aic))\n",
    "    print(best_results.summary().tables[0])\n",
    "    print(best_results.summary().tables[1])"
   ]
  },
  {
   "cell_type": "code",
   "execution_count": 114,
   "id": "d126ab7d",
   "metadata": {},
   "outputs": [],
   "source": [
    "timeseries = mkt_sales_data[\"Tractor-Sales\"]"
   ]
  },
  {
   "cell_type": "code",
   "execution_count": 115,
   "id": "fb34a0c2",
   "metadata": {},
   "outputs": [],
   "source": [
    "regressors = mkt_sales_data[[\"Marketing Expense\", \"Mkt_Exp_Lag_1\", \"Mkt_Exp_Lag_2\"]]"
   ]
  },
  {
   "cell_type": "code",
   "execution_count": 118,
   "id": "84383630",
   "metadata": {},
   "outputs": [
    {
     "name": "stdout",
     "output_type": "stream",
     "text": [
      "Best SARIMAX(0, 1, 1)x(1, 0, 1, 12)12 model - AIC:273.4843871799599\n",
      "                                     SARIMAX Results                                      \n",
      "==========================================================================================\n",
      "Dep. Variable:                      Tractor-Sales   No. Observations:                   44\n",
      "Model:             SARIMAX(0, 1, 1)x(1, 0, 1, 12)   Log Likelihood                -129.742\n",
      "Date:                            Sat, 18 Dec 2021   AIC                            273.484\n",
      "Time:                                    17:04:41   BIC                            283.055\n",
      "Sample:                                05-01-2011   HQIC                           276.482\n",
      "                                     - 12-01-2014                                         \n",
      "Covariance Type:                              opg                                         \n",
      "==========================================================================================\n",
      "=====================================================================================\n",
      "                        coef    std err          z      P>|z|      [0.025      0.975]\n",
      "-------------------------------------------------------------------------------------\n",
      "Marketing Expense     0.0287      0.045      0.640      0.522      -0.059       0.117\n",
      "Mkt_Exp_Lag_1        -0.0202      0.047     -0.430      0.667      -0.112       0.072\n",
      "Mkt_Exp_Lag_2        -0.0195      0.031     -0.636      0.525      -0.079       0.041\n",
      "ma.L1                -0.6043      0.194     -3.114      0.002      -0.985      -0.224\n",
      "ar.S.L12              1.1182      0.049     22.978      0.000       1.023       1.214\n",
      "ma.S.L12             -2.2080      2.668     -0.828      0.408      -7.437       3.021\n",
      "sigma2               84.2964    184.931      0.456      0.649    -278.161     446.754\n",
      "=====================================================================================\n"
     ]
    }
   ],
   "source": [
    "best_results = auto_arima(timeseries, regressors, p=range(0, 2), d=range(0, 2), q=range(0, 2),\n",
    "                         P=range(0, 2), D=range(0, 1), Q=range(0, 2))"
   ]
  },
  {
   "cell_type": "code",
   "execution_count": 119,
   "id": "46f08e8f",
   "metadata": {},
   "outputs": [
    {
     "name": "stdout",
     "output_type": "stream",
     "text": [
      "                                     SARIMAX Results                                      \n",
      "==========================================================================================\n",
      "Dep. Variable:                      Tractor-Sales   No. Observations:                   44\n",
      "Model:             SARIMAX(0, 1, 1)x(1, 0, 1, 12)   Log Likelihood                -129.742\n",
      "Date:                            Sat, 18 Dec 2021   AIC                            273.484\n",
      "Time:                                    17:05:55   BIC                            283.055\n",
      "Sample:                                05-01-2011   HQIC                           276.482\n",
      "                                     - 12-01-2014                                         \n",
      "Covariance Type:                              opg                                         \n",
      "=====================================================================================\n",
      "                        coef    std err          z      P>|z|      [0.025      0.975]\n",
      "-------------------------------------------------------------------------------------\n",
      "Marketing Expense     0.0287      0.045      0.640      0.522      -0.059       0.117\n",
      "Mkt_Exp_Lag_1        -0.0202      0.047     -0.430      0.667      -0.112       0.072\n",
      "Mkt_Exp_Lag_2        -0.0195      0.031     -0.636      0.525      -0.079       0.041\n",
      "ma.L1                -0.6043      0.194     -3.114      0.002      -0.985      -0.224\n",
      "ar.S.L12              1.1182      0.049     22.978      0.000       1.023       1.214\n",
      "ma.S.L12             -2.2080      2.668     -0.828      0.408      -7.437       3.021\n",
      "sigma2               84.2964    184.931      0.456      0.649    -278.161     446.754\n",
      "===================================================================================\n",
      "Ljung-Box (L1) (Q):                   1.70   Jarque-Bera (JB):                 0.61\n",
      "Prob(Q):                              0.19   Prob(JB):                         0.74\n",
      "Heteroskedasticity (H):               1.44   Skew:                            -0.22\n",
      "Prob(H) (two-sided):                  0.58   Kurtosis:                         3.55\n",
      "===================================================================================\n",
      "\n",
      "Warnings:\n",
      "[1] Covariance matrix calculated using the outer product of gradients (complex-step).\n"
     ]
    }
   ],
   "source": [
    "best_model = sm.tsa.statespace.SARIMAX(timeseries,\n",
    "                                      exog = regressors,\n",
    "                                      order=(0, 1, 1),\n",
    "                                      seasonal_order=(1, 0, 1, 12),\n",
    "                                      enforce_stationarity=False,\n",
    "                                      enforce_invertibility=False)\n",
    "best_results = best_model.fit()\n",
    "print(best_results.summary())"
   ]
  },
  {
   "cell_type": "code",
   "execution_count": 120,
   "id": "cf38f062",
   "metadata": {},
   "outputs": [
    {
     "data": {
      "text/html": [
       "<div>\n",
       "<style scoped>\n",
       "    .dataframe tbody tr th:only-of-type {\n",
       "        vertical-align: middle;\n",
       "    }\n",
       "\n",
       "    .dataframe tbody tr th {\n",
       "        vertical-align: top;\n",
       "    }\n",
       "\n",
       "    .dataframe thead th {\n",
       "        text-align: right;\n",
       "    }\n",
       "</style>\n",
       "<table border=\"1\" class=\"dataframe\">\n",
       "  <thead>\n",
       "    <tr style=\"text-align: right;\">\n",
       "      <th></th>\n",
       "      <th>Marketing Expense</th>\n",
       "      <th>Mkt_Exp_Lag_1</th>\n",
       "      <th>Mkt_Exp_Lag_2</th>\n",
       "    </tr>\n",
       "  </thead>\n",
       "  <tbody>\n",
       "    <tr>\n",
       "      <th>2015-01-01</th>\n",
       "      <td>600.0</td>\n",
       "      <td>559.75</td>\n",
       "      <td>527.60</td>\n",
       "    </tr>\n",
       "    <tr>\n",
       "      <th>2015-02-01</th>\n",
       "      <td>550.0</td>\n",
       "      <td>600.00</td>\n",
       "      <td>559.75</td>\n",
       "    </tr>\n",
       "    <tr>\n",
       "      <th>2015-03-01</th>\n",
       "      <td>700.0</td>\n",
       "      <td>550.00</td>\n",
       "      <td>600.00</td>\n",
       "    </tr>\n",
       "    <tr>\n",
       "      <th>2015-04-01</th>\n",
       "      <td>590.0</td>\n",
       "      <td>700.00</td>\n",
       "      <td>550.00</td>\n",
       "    </tr>\n",
       "    <tr>\n",
       "      <th>2015-05-01</th>\n",
       "      <td>480.0</td>\n",
       "      <td>590.00</td>\n",
       "      <td>700.00</td>\n",
       "    </tr>\n",
       "    <tr>\n",
       "      <th>2015-06-01</th>\n",
       "      <td>520.0</td>\n",
       "      <td>480.00</td>\n",
       "      <td>590.00</td>\n",
       "    </tr>\n",
       "    <tr>\n",
       "      <th>2015-07-01</th>\n",
       "      <td>800.0</td>\n",
       "      <td>520.00</td>\n",
       "      <td>480.00</td>\n",
       "    </tr>\n",
       "    <tr>\n",
       "      <th>2015-08-01</th>\n",
       "      <td>675.0</td>\n",
       "      <td>800.00</td>\n",
       "      <td>520.00</td>\n",
       "    </tr>\n",
       "    <tr>\n",
       "      <th>2015-09-01</th>\n",
       "      <td>820.0</td>\n",
       "      <td>675.00</td>\n",
       "      <td>800.00</td>\n",
       "    </tr>\n",
       "    <tr>\n",
       "      <th>2015-10-01</th>\n",
       "      <td>710.0</td>\n",
       "      <td>820.00</td>\n",
       "      <td>675.00</td>\n",
       "    </tr>\n",
       "    <tr>\n",
       "      <th>2015-11-01</th>\n",
       "      <td>550.0</td>\n",
       "      <td>710.00</td>\n",
       "      <td>820.00</td>\n",
       "    </tr>\n",
       "    <tr>\n",
       "      <th>2015-12-01</th>\n",
       "      <td>590.0</td>\n",
       "      <td>550.00</td>\n",
       "      <td>710.00</td>\n",
       "    </tr>\n",
       "  </tbody>\n",
       "</table>\n",
       "</div>"
      ],
      "text/plain": [
       "            Marketing Expense  Mkt_Exp_Lag_1  Mkt_Exp_Lag_2\n",
       "2015-01-01              600.0         559.75         527.60\n",
       "2015-02-01              550.0         600.00         559.75\n",
       "2015-03-01              700.0         550.00         600.00\n",
       "2015-04-01              590.0         700.00         550.00\n",
       "2015-05-01              480.0         590.00         700.00\n",
       "2015-06-01              520.0         480.00         590.00\n",
       "2015-07-01              800.0         520.00         480.00\n",
       "2015-08-01              675.0         800.00         520.00\n",
       "2015-09-01              820.0         675.00         800.00\n",
       "2015-10-01              710.0         820.00         675.00\n",
       "2015-11-01              550.0         710.00         820.00\n",
       "2015-12-01              590.0         550.00         710.00"
      ]
     },
     "execution_count": 120,
     "metadata": {},
     "output_type": "execute_result"
    }
   ],
   "source": [
    "Future_mkt_spend = {\n",
    "    '2015-01-01' : [600, 559.75, 527.60],\n",
    "    '2015-02-01' : [550, 600, 559.75],\n",
    "    '2015-03-01' : [700, 550, 600],\n",
    "    '2015-04-01' : [590, 700, 550],\n",
    "    '2015-05-01' : [480, 590, 700],\n",
    "    '2015-06-01' : [520, 480, 590],\n",
    "    '2015-07-01' : [800, 520, 480],\n",
    "    '2015-08-01' : [675, 800, 520],\n",
    "    '2015-09-01' : [820, 675, 800],\n",
    "    '2015-10-01' : [710, 820, 675],\n",
    "    '2015-11-01' : [550, 710, 820],\n",
    "    '2015-12-01' : [590, 550, 710]\n",
    "}\n",
    "\n",
    "Future_mkt_spend = pd.DataFrame(Future_mkt_spend).T\n",
    "\n",
    "Future_mkt_spend.columns = ['Marketing Expense', 'Mkt_Exp_Lag_1', 'Mkt_Exp_Lag_2']\n",
    "\n",
    "Future_mkt_spend"
   ]
  },
  {
   "cell_type": "code",
   "execution_count": 122,
   "id": "47e56b74",
   "metadata": {},
   "outputs": [],
   "source": [
    "#Forecast for next 12 Months\n",
    "Forecasting12_SARIMAX = best_results.forecast(steps=12, exog=Future_mkt_spend)"
   ]
  },
  {
   "cell_type": "code",
   "execution_count": 123,
   "id": "8885003d",
   "metadata": {},
   "outputs": [
    {
     "data": {
      "text/plain": [
       "2015-01-01    575.015983\n",
       "2015-02-01    563.538503\n",
       "2015-03-01    662.663282\n",
       "2015-04-01    761.803995\n",
       "2015-05-01    859.052036\n",
       "2015-06-01    818.001314\n",
       "2015-07-01    965.096830\n",
       "2015-08-01    951.381353\n",
       "2015-09-01    713.073510\n",
       "2015-10-01    636.332919\n",
       "2015-11-01    567.941596\n",
       "2015-12-01    665.188155\n",
       "Freq: MS, Name: predicted_mean, dtype: float64"
      ]
     },
     "execution_count": 123,
     "metadata": {},
     "output_type": "execute_result"
    }
   ],
   "source": [
    "Forecasting12_SARIMAX"
   ]
  },
  {
   "cell_type": "code",
   "execution_count": 124,
   "id": "6ff8aeb1",
   "metadata": {},
   "outputs": [
    {
     "data": {
      "image/png": "[encoded data removed]",
      "text/plain": [
       "<Figure size 432x288 with 1 Axes>"
      ]
     },
     "metadata": {
      "needs_background": "light"
     },
     "output_type": "display_data"
    }
   ],
   "source": [
    "### Forecasting for the next 12 Time Period\n",
    "plt.plot(Forecasting12_SARIMAX)\n",
    "plt.show()"
   ]
  },
  {
   "cell_type": "code",
   "execution_count": 128,
   "id": "e14732bf",
   "metadata": {},
   "outputs": [
    {
     "data": {
      "text/plain": [
       "[<matplotlib.lines.Line2D at 0x1ef1cea2850>]"
      ]
     },
     "execution_count": 128,
     "metadata": {},
     "output_type": "execute_result"
    },
    {
     "data": {
      "image/png": "[encoded data removed]",
      "text/plain": [
       "<Figure size 432x288 with 1 Axes>"
      ]
     },
     "metadata": {
      "needs_background": "light"
     },
     "output_type": "display_data"
    }
   ],
   "source": [
    "plt.plot(mkt_sales_data['Tractor-Sales'])"
   ]
  }
 ],
 "metadata": {
  "kernelspec": {
   "display_name": "Python 3",
   "language": "python",
   "name": "python3"
  },
  "language_info": {
   "codemirror_mode": {
    "name": "ipython",
    "version": 3
   },
   "file_extension": ".py",
   "mimetype": "text/x-python",
   "name": "python",
   "nbconvert_exporter": "python",
   "pygments_lexer": "ipython3",
   "version": "3.8.8"
  }
 },
 "nbformat": 4,
 "nbformat_minor": 5
}
